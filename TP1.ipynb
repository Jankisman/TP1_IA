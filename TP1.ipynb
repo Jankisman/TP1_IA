{
  "nbformat": 4,
  "nbformat_minor": 0,
  "metadata": {
    "colab": {
      "provenance": [],
      "authorship_tag": "ABX9TyO59UsaMjWpB5mzQhC0+4IQ",
      "include_colab_link": true
    },
    "kernelspec": {
      "name": "python3",
      "display_name": "Python 3"
    },
    "language_info": {
      "name": "python"
    }
  },
  "cells": [
    {
      "cell_type": "markdown",
      "metadata": {
        "id": "view-in-github",
        "colab_type": "text"
      },
      "source": [
        "<a href=\"https://colab.research.google.com/github/Jankisman/TP1_IA/blob/main/TP1.ipynb\" target=\"_parent\"><img src=\"https://colab.research.google.com/assets/colab-badge.svg\" alt=\"Open In Colab\"/></a>"
      ]
    },
    {
      "cell_type": "markdown",
      "source": [],
      "metadata": {
        "id": "yht1ueMOjO5L"
      }
    },
    {
      "cell_type": "markdown",
      "source": [
        "**Installation et importation des bibliothèques**"
      ],
      "metadata": {
        "id": "wm5xrtxbjQKP"
      }
    },
    {
      "cell_type": "code",
      "source": [
        "import pandas as pd\n",
        "import numpy as np\n",
        "import matplotlib.pyplot as plt\n",
        "import seaborn as sns\n"
      ],
      "metadata": {
        "id": "wpzWTR02jZAq"
      },
      "execution_count": 1,
      "outputs": []
    },
    {
      "cell_type": "markdown",
      "source": [
        "**Charger et afficher les dimensions du DataFrame**"
      ],
      "metadata": {
        "id": "Lm12Idzojk16"
      }
    },
    {
      "cell_type": "code",
      "source": [
        "df = pd.read_csv(\"/content/uci-secom.csv\")\n",
        "print(f\"Dimensions du DataFrame : {df.shape}\")"
      ],
      "metadata": {
        "colab": {
          "base_uri": "https://localhost:8080/"
        },
        "id": "yFNB_iwfjoMH",
        "outputId": "ff6d5e38-16b2-46e7-afc5-8f725e3e043d"
      },
      "execution_count": 3,
      "outputs": [
        {
          "output_type": "stream",
          "name": "stdout",
          "text": [
            "Dimensions du DataFrame : (1567, 593)\n"
          ]
        }
      ]
    },
    {
      "cell_type": "markdown",
      "source": [
        "**Afficher les 10 premières lignes du DataFrame**"
      ],
      "metadata": {
        "id": "FiXt4Kgwj0Ck"
      }
    },
    {
      "cell_type": "code",
      "source": [
        "df.head(10)"
      ],
      "metadata": {
        "colab": {
          "base_uri": "https://localhost:8080/",
          "height": 748
        },
        "id": "QM4nhtxDj5Fc",
        "outputId": "3ffe85fc-8904-40e1-a49a-bea0aed8aa52"
      },
      "execution_count": 4,
      "outputs": [
        {
          "output_type": "execute_result",
          "data": {
            "text/plain": [
              "                  Time        0        1          2          3       4      5  \\\n",
              "0  2008-07-19 11:55:00  3030.93  2564.00  2187.7333  1411.1265  1.3602  100.0   \n",
              "1  2008-07-19 12:32:00  3095.78  2465.14  2230.4222  1463.6606  0.8294  100.0   \n",
              "2  2008-07-19 13:17:00  2932.61  2559.94  2186.4111  1698.0172  1.5102  100.0   \n",
              "3  2008-07-19 14:43:00  2988.72  2479.90  2199.0333   909.7926  1.3204  100.0   \n",
              "4  2008-07-19 15:22:00  3032.24  2502.87  2233.3667  1326.5200  1.5334  100.0   \n",
              "5  2008-07-19 17:53:00  2946.25  2432.84  2233.3667  1326.5200  1.5334  100.0   \n",
              "6  2008-07-19 19:44:00  3030.27  2430.12  2230.4222  1463.6606  0.8294  100.0   \n",
              "7  2008-07-19 19:45:00  3058.88  2690.15  2248.9000  1004.4692  0.7884  100.0   \n",
              "8  2008-07-19 20:24:00  2967.68  2600.47  2248.9000  1004.4692  0.7884  100.0   \n",
              "9  2008-07-19 21:35:00  3016.11  2428.37  2248.9000  1004.4692  0.7884  100.0   \n",
              "\n",
              "          6       7       8  ...     582     583     584      585     586  \\\n",
              "0   97.6133  0.1242  1.5005  ...  0.5005  0.0118  0.0035   2.3630     NaN   \n",
              "1  102.3433  0.1247  1.4966  ...  0.5019  0.0223  0.0055   4.4447  0.0096   \n",
              "2   95.4878  0.1241  1.4436  ...  0.4958  0.0157  0.0039   3.1745  0.0584   \n",
              "3  104.2367  0.1217  1.4882  ...  0.4990  0.0103  0.0025   2.0544  0.0202   \n",
              "4  100.3967  0.1235  1.5031  ...  0.4800  0.4766  0.1045  99.3032  0.0202   \n",
              "5  100.3967  0.1235  1.5287  ...  0.4949  0.0189  0.0044   3.8276  0.0342   \n",
              "6  102.3433  0.1247  1.5816  ...  0.5010  0.0143  0.0042   2.8515  0.0342   \n",
              "7  106.2400  0.1185  1.5153  ...  0.4984  0.0106  0.0034   2.1261  0.0204   \n",
              "8  106.2400  0.1185  1.5358  ...  0.4993  0.0172  0.0046   3.4456  0.0111   \n",
              "9  106.2400  0.1185  1.5381  ...  0.4967  0.0152  0.0038   3.0687  0.0212   \n",
              "\n",
              "      587     588       589                    Phase  Pass/Fail  \n",
              "0     NaN     NaN       NaN                  Gravure         -1  \n",
              "1  0.0201  0.0060  208.2045             Lithographie         -1  \n",
              "2  0.0484  0.0148   82.8602            Métallisation          1  \n",
              "3  0.0149  0.0044   73.8432          Test électrique         -1  \n",
              "4  0.0149  0.0044   73.8432     Implantation ionique         -1  \n",
              "5  0.0151  0.0052   44.0077                  Gravure         -1  \n",
              "6  0.0151  0.0052   44.0077  Dépôt de couches minces         -1  \n",
              "7  0.0194  0.0063   95.0310                  Gravure         -1  \n",
              "8  0.0124  0.0045  111.6525          Test électrique         -1  \n",
              "9  0.0191  0.0073   90.2294     Implantation ionique         -1  \n",
              "\n",
              "[10 rows x 593 columns]"
            ],
            "text/html": [
              "\n",
              "  <div id=\"df-dfa21865-3226-41e4-bde8-d07661af540f\" class=\"colab-df-container\">\n",
              "    <div>\n",
              "<style scoped>\n",
              "    .dataframe tbody tr th:only-of-type {\n",
              "        vertical-align: middle;\n",
              "    }\n",
              "\n",
              "    .dataframe tbody tr th {\n",
              "        vertical-align: top;\n",
              "    }\n",
              "\n",
              "    .dataframe thead th {\n",
              "        text-align: right;\n",
              "    }\n",
              "</style>\n",
              "<table border=\"1\" class=\"dataframe\">\n",
              "  <thead>\n",
              "    <tr style=\"text-align: right;\">\n",
              "      <th></th>\n",
              "      <th>Time</th>\n",
              "      <th>0</th>\n",
              "      <th>1</th>\n",
              "      <th>2</th>\n",
              "      <th>3</th>\n",
              "      <th>4</th>\n",
              "      <th>5</th>\n",
              "      <th>6</th>\n",
              "      <th>7</th>\n",
              "      <th>8</th>\n",
              "      <th>...</th>\n",
              "      <th>582</th>\n",
              "      <th>583</th>\n",
              "      <th>584</th>\n",
              "      <th>585</th>\n",
              "      <th>586</th>\n",
              "      <th>587</th>\n",
              "      <th>588</th>\n",
              "      <th>589</th>\n",
              "      <th>Phase</th>\n",
              "      <th>Pass/Fail</th>\n",
              "    </tr>\n",
              "  </thead>\n",
              "  <tbody>\n",
              "    <tr>\n",
              "      <th>0</th>\n",
              "      <td>2008-07-19 11:55:00</td>\n",
              "      <td>3030.93</td>\n",
              "      <td>2564.00</td>\n",
              "      <td>2187.7333</td>\n",
              "      <td>1411.1265</td>\n",
              "      <td>1.3602</td>\n",
              "      <td>100.0</td>\n",
              "      <td>97.6133</td>\n",
              "      <td>0.1242</td>\n",
              "      <td>1.5005</td>\n",
              "      <td>...</td>\n",
              "      <td>0.5005</td>\n",
              "      <td>0.0118</td>\n",
              "      <td>0.0035</td>\n",
              "      <td>2.3630</td>\n",
              "      <td>NaN</td>\n",
              "      <td>NaN</td>\n",
              "      <td>NaN</td>\n",
              "      <td>NaN</td>\n",
              "      <td>Gravure</td>\n",
              "      <td>-1</td>\n",
              "    </tr>\n",
              "    <tr>\n",
              "      <th>1</th>\n",
              "      <td>2008-07-19 12:32:00</td>\n",
              "      <td>3095.78</td>\n",
              "      <td>2465.14</td>\n",
              "      <td>2230.4222</td>\n",
              "      <td>1463.6606</td>\n",
              "      <td>0.8294</td>\n",
              "      <td>100.0</td>\n",
              "      <td>102.3433</td>\n",
              "      <td>0.1247</td>\n",
              "      <td>1.4966</td>\n",
              "      <td>...</td>\n",
              "      <td>0.5019</td>\n",
              "      <td>0.0223</td>\n",
              "      <td>0.0055</td>\n",
              "      <td>4.4447</td>\n",
              "      <td>0.0096</td>\n",
              "      <td>0.0201</td>\n",
              "      <td>0.0060</td>\n",
              "      <td>208.2045</td>\n",
              "      <td>Lithographie</td>\n",
              "      <td>-1</td>\n",
              "    </tr>\n",
              "    <tr>\n",
              "      <th>2</th>\n",
              "      <td>2008-07-19 13:17:00</td>\n",
              "      <td>2932.61</td>\n",
              "      <td>2559.94</td>\n",
              "      <td>2186.4111</td>\n",
              "      <td>1698.0172</td>\n",
              "      <td>1.5102</td>\n",
              "      <td>100.0</td>\n",
              "      <td>95.4878</td>\n",
              "      <td>0.1241</td>\n",
              "      <td>1.4436</td>\n",
              "      <td>...</td>\n",
              "      <td>0.4958</td>\n",
              "      <td>0.0157</td>\n",
              "      <td>0.0039</td>\n",
              "      <td>3.1745</td>\n",
              "      <td>0.0584</td>\n",
              "      <td>0.0484</td>\n",
              "      <td>0.0148</td>\n",
              "      <td>82.8602</td>\n",
              "      <td>Métallisation</td>\n",
              "      <td>1</td>\n",
              "    </tr>\n",
              "    <tr>\n",
              "      <th>3</th>\n",
              "      <td>2008-07-19 14:43:00</td>\n",
              "      <td>2988.72</td>\n",
              "      <td>2479.90</td>\n",
              "      <td>2199.0333</td>\n",
              "      <td>909.7926</td>\n",
              "      <td>1.3204</td>\n",
              "      <td>100.0</td>\n",
              "      <td>104.2367</td>\n",
              "      <td>0.1217</td>\n",
              "      <td>1.4882</td>\n",
              "      <td>...</td>\n",
              "      <td>0.4990</td>\n",
              "      <td>0.0103</td>\n",
              "      <td>0.0025</td>\n",
              "      <td>2.0544</td>\n",
              "      <td>0.0202</td>\n",
              "      <td>0.0149</td>\n",
              "      <td>0.0044</td>\n",
              "      <td>73.8432</td>\n",
              "      <td>Test électrique</td>\n",
              "      <td>-1</td>\n",
              "    </tr>\n",
              "    <tr>\n",
              "      <th>4</th>\n",
              "      <td>2008-07-19 15:22:00</td>\n",
              "      <td>3032.24</td>\n",
              "      <td>2502.87</td>\n",
              "      <td>2233.3667</td>\n",
              "      <td>1326.5200</td>\n",
              "      <td>1.5334</td>\n",
              "      <td>100.0</td>\n",
              "      <td>100.3967</td>\n",
              "      <td>0.1235</td>\n",
              "      <td>1.5031</td>\n",
              "      <td>...</td>\n",
              "      <td>0.4800</td>\n",
              "      <td>0.4766</td>\n",
              "      <td>0.1045</td>\n",
              "      <td>99.3032</td>\n",
              "      <td>0.0202</td>\n",
              "      <td>0.0149</td>\n",
              "      <td>0.0044</td>\n",
              "      <td>73.8432</td>\n",
              "      <td>Implantation ionique</td>\n",
              "      <td>-1</td>\n",
              "    </tr>\n",
              "    <tr>\n",
              "      <th>5</th>\n",
              "      <td>2008-07-19 17:53:00</td>\n",
              "      <td>2946.25</td>\n",
              "      <td>2432.84</td>\n",
              "      <td>2233.3667</td>\n",
              "      <td>1326.5200</td>\n",
              "      <td>1.5334</td>\n",
              "      <td>100.0</td>\n",
              "      <td>100.3967</td>\n",
              "      <td>0.1235</td>\n",
              "      <td>1.5287</td>\n",
              "      <td>...</td>\n",
              "      <td>0.4949</td>\n",
              "      <td>0.0189</td>\n",
              "      <td>0.0044</td>\n",
              "      <td>3.8276</td>\n",
              "      <td>0.0342</td>\n",
              "      <td>0.0151</td>\n",
              "      <td>0.0052</td>\n",
              "      <td>44.0077</td>\n",
              "      <td>Gravure</td>\n",
              "      <td>-1</td>\n",
              "    </tr>\n",
              "    <tr>\n",
              "      <th>6</th>\n",
              "      <td>2008-07-19 19:44:00</td>\n",
              "      <td>3030.27</td>\n",
              "      <td>2430.12</td>\n",
              "      <td>2230.4222</td>\n",
              "      <td>1463.6606</td>\n",
              "      <td>0.8294</td>\n",
              "      <td>100.0</td>\n",
              "      <td>102.3433</td>\n",
              "      <td>0.1247</td>\n",
              "      <td>1.5816</td>\n",
              "      <td>...</td>\n",
              "      <td>0.5010</td>\n",
              "      <td>0.0143</td>\n",
              "      <td>0.0042</td>\n",
              "      <td>2.8515</td>\n",
              "      <td>0.0342</td>\n",
              "      <td>0.0151</td>\n",
              "      <td>0.0052</td>\n",
              "      <td>44.0077</td>\n",
              "      <td>Dépôt de couches minces</td>\n",
              "      <td>-1</td>\n",
              "    </tr>\n",
              "    <tr>\n",
              "      <th>7</th>\n",
              "      <td>2008-07-19 19:45:00</td>\n",
              "      <td>3058.88</td>\n",
              "      <td>2690.15</td>\n",
              "      <td>2248.9000</td>\n",
              "      <td>1004.4692</td>\n",
              "      <td>0.7884</td>\n",
              "      <td>100.0</td>\n",
              "      <td>106.2400</td>\n",
              "      <td>0.1185</td>\n",
              "      <td>1.5153</td>\n",
              "      <td>...</td>\n",
              "      <td>0.4984</td>\n",
              "      <td>0.0106</td>\n",
              "      <td>0.0034</td>\n",
              "      <td>2.1261</td>\n",
              "      <td>0.0204</td>\n",
              "      <td>0.0194</td>\n",
              "      <td>0.0063</td>\n",
              "      <td>95.0310</td>\n",
              "      <td>Gravure</td>\n",
              "      <td>-1</td>\n",
              "    </tr>\n",
              "    <tr>\n",
              "      <th>8</th>\n",
              "      <td>2008-07-19 20:24:00</td>\n",
              "      <td>2967.68</td>\n",
              "      <td>2600.47</td>\n",
              "      <td>2248.9000</td>\n",
              "      <td>1004.4692</td>\n",
              "      <td>0.7884</td>\n",
              "      <td>100.0</td>\n",
              "      <td>106.2400</td>\n",
              "      <td>0.1185</td>\n",
              "      <td>1.5358</td>\n",
              "      <td>...</td>\n",
              "      <td>0.4993</td>\n",
              "      <td>0.0172</td>\n",
              "      <td>0.0046</td>\n",
              "      <td>3.4456</td>\n",
              "      <td>0.0111</td>\n",
              "      <td>0.0124</td>\n",
              "      <td>0.0045</td>\n",
              "      <td>111.6525</td>\n",
              "      <td>Test électrique</td>\n",
              "      <td>-1</td>\n",
              "    </tr>\n",
              "    <tr>\n",
              "      <th>9</th>\n",
              "      <td>2008-07-19 21:35:00</td>\n",
              "      <td>3016.11</td>\n",
              "      <td>2428.37</td>\n",
              "      <td>2248.9000</td>\n",
              "      <td>1004.4692</td>\n",
              "      <td>0.7884</td>\n",
              "      <td>100.0</td>\n",
              "      <td>106.2400</td>\n",
              "      <td>0.1185</td>\n",
              "      <td>1.5381</td>\n",
              "      <td>...</td>\n",
              "      <td>0.4967</td>\n",
              "      <td>0.0152</td>\n",
              "      <td>0.0038</td>\n",
              "      <td>3.0687</td>\n",
              "      <td>0.0212</td>\n",
              "      <td>0.0191</td>\n",
              "      <td>0.0073</td>\n",
              "      <td>90.2294</td>\n",
              "      <td>Implantation ionique</td>\n",
              "      <td>-1</td>\n",
              "    </tr>\n",
              "  </tbody>\n",
              "</table>\n",
              "<p>10 rows × 593 columns</p>\n",
              "</div>\n",
              "    <div class=\"colab-df-buttons\">\n",
              "\n",
              "  <div class=\"colab-df-container\">\n",
              "    <button class=\"colab-df-convert\" onclick=\"convertToInteractive('df-dfa21865-3226-41e4-bde8-d07661af540f')\"\n",
              "            title=\"Convert this dataframe to an interactive table.\"\n",
              "            style=\"display:none;\">\n",
              "\n",
              "  <svg xmlns=\"http://www.w3.org/2000/svg\" height=\"24px\" viewBox=\"0 -960 960 960\">\n",
              "    <path d=\"M120-120v-720h720v720H120Zm60-500h600v-160H180v160Zm220 220h160v-160H400v160Zm0 220h160v-160H400v160ZM180-400h160v-160H180v160Zm440 0h160v-160H620v160ZM180-180h160v-160H180v160Zm440 0h160v-160H620v160Z\"/>\n",
              "  </svg>\n",
              "    </button>\n",
              "\n",
              "  <style>\n",
              "    .colab-df-container {\n",
              "      display:flex;\n",
              "      gap: 12px;\n",
              "    }\n",
              "\n",
              "    .colab-df-convert {\n",
              "      background-color: #E8F0FE;\n",
              "      border: none;\n",
              "      border-radius: 50%;\n",
              "      cursor: pointer;\n",
              "      display: none;\n",
              "      fill: #1967D2;\n",
              "      height: 32px;\n",
              "      padding: 0 0 0 0;\n",
              "      width: 32px;\n",
              "    }\n",
              "\n",
              "    .colab-df-convert:hover {\n",
              "      background-color: #E2EBFA;\n",
              "      box-shadow: 0px 1px 2px rgba(60, 64, 67, 0.3), 0px 1px 3px 1px rgba(60, 64, 67, 0.15);\n",
              "      fill: #174EA6;\n",
              "    }\n",
              "\n",
              "    .colab-df-buttons div {\n",
              "      margin-bottom: 4px;\n",
              "    }\n",
              "\n",
              "    [theme=dark] .colab-df-convert {\n",
              "      background-color: #3B4455;\n",
              "      fill: #D2E3FC;\n",
              "    }\n",
              "\n",
              "    [theme=dark] .colab-df-convert:hover {\n",
              "      background-color: #434B5C;\n",
              "      box-shadow: 0px 1px 3px 1px rgba(0, 0, 0, 0.15);\n",
              "      filter: drop-shadow(0px 1px 2px rgba(0, 0, 0, 0.3));\n",
              "      fill: #FFFFFF;\n",
              "    }\n",
              "  </style>\n",
              "\n",
              "    <script>\n",
              "      const buttonEl =\n",
              "        document.querySelector('#df-dfa21865-3226-41e4-bde8-d07661af540f button.colab-df-convert');\n",
              "      buttonEl.style.display =\n",
              "        google.colab.kernel.accessAllowed ? 'block' : 'none';\n",
              "\n",
              "      async function convertToInteractive(key) {\n",
              "        const element = document.querySelector('#df-dfa21865-3226-41e4-bde8-d07661af540f');\n",
              "        const dataTable =\n",
              "          await google.colab.kernel.invokeFunction('convertToInteractive',\n",
              "                                                    [key], {});\n",
              "        if (!dataTable) return;\n",
              "\n",
              "        const docLinkHtml = 'Like what you see? Visit the ' +\n",
              "          '<a target=\"_blank\" href=https://colab.research.google.com/notebooks/data_table.ipynb>data table notebook</a>'\n",
              "          + ' to learn more about interactive tables.';\n",
              "        element.innerHTML = '';\n",
              "        dataTable['output_type'] = 'display_data';\n",
              "        await google.colab.output.renderOutput(dataTable, element);\n",
              "        const docLink = document.createElement('div');\n",
              "        docLink.innerHTML = docLinkHtml;\n",
              "        element.appendChild(docLink);\n",
              "      }\n",
              "    </script>\n",
              "  </div>\n",
              "\n",
              "\n",
              "<div id=\"df-101267b9-f29f-4c9e-8c9c-6a0407e77734\">\n",
              "  <button class=\"colab-df-quickchart\" onclick=\"quickchart('df-101267b9-f29f-4c9e-8c9c-6a0407e77734')\"\n",
              "            title=\"Suggest charts\"\n",
              "            style=\"display:none;\">\n",
              "\n",
              "<svg xmlns=\"http://www.w3.org/2000/svg\" height=\"24px\"viewBox=\"0 0 24 24\"\n",
              "     width=\"24px\">\n",
              "    <g>\n",
              "        <path d=\"M19 3H5c-1.1 0-2 .9-2 2v14c0 1.1.9 2 2 2h14c1.1 0 2-.9 2-2V5c0-1.1-.9-2-2-2zM9 17H7v-7h2v7zm4 0h-2V7h2v10zm4 0h-2v-4h2v4z\"/>\n",
              "    </g>\n",
              "</svg>\n",
              "  </button>\n",
              "\n",
              "<style>\n",
              "  .colab-df-quickchart {\n",
              "      --bg-color: #E8F0FE;\n",
              "      --fill-color: #1967D2;\n",
              "      --hover-bg-color: #E2EBFA;\n",
              "      --hover-fill-color: #174EA6;\n",
              "      --disabled-fill-color: #AAA;\n",
              "      --disabled-bg-color: #DDD;\n",
              "  }\n",
              "\n",
              "  [theme=dark] .colab-df-quickchart {\n",
              "      --bg-color: #3B4455;\n",
              "      --fill-color: #D2E3FC;\n",
              "      --hover-bg-color: #434B5C;\n",
              "      --hover-fill-color: #FFFFFF;\n",
              "      --disabled-bg-color: #3B4455;\n",
              "      --disabled-fill-color: #666;\n",
              "  }\n",
              "\n",
              "  .colab-df-quickchart {\n",
              "    background-color: var(--bg-color);\n",
              "    border: none;\n",
              "    border-radius: 50%;\n",
              "    cursor: pointer;\n",
              "    display: none;\n",
              "    fill: var(--fill-color);\n",
              "    height: 32px;\n",
              "    padding: 0;\n",
              "    width: 32px;\n",
              "  }\n",
              "\n",
              "  .colab-df-quickchart:hover {\n",
              "    background-color: var(--hover-bg-color);\n",
              "    box-shadow: 0 1px 2px rgba(60, 64, 67, 0.3), 0 1px 3px 1px rgba(60, 64, 67, 0.15);\n",
              "    fill: var(--button-hover-fill-color);\n",
              "  }\n",
              "\n",
              "  .colab-df-quickchart-complete:disabled,\n",
              "  .colab-df-quickchart-complete:disabled:hover {\n",
              "    background-color: var(--disabled-bg-color);\n",
              "    fill: var(--disabled-fill-color);\n",
              "    box-shadow: none;\n",
              "  }\n",
              "\n",
              "  .colab-df-spinner {\n",
              "    border: 2px solid var(--fill-color);\n",
              "    border-color: transparent;\n",
              "    border-bottom-color: var(--fill-color);\n",
              "    animation:\n",
              "      spin 1s steps(1) infinite;\n",
              "  }\n",
              "\n",
              "  @keyframes spin {\n",
              "    0% {\n",
              "      border-color: transparent;\n",
              "      border-bottom-color: var(--fill-color);\n",
              "      border-left-color: var(--fill-color);\n",
              "    }\n",
              "    20% {\n",
              "      border-color: transparent;\n",
              "      border-left-color: var(--fill-color);\n",
              "      border-top-color: var(--fill-color);\n",
              "    }\n",
              "    30% {\n",
              "      border-color: transparent;\n",
              "      border-left-color: var(--fill-color);\n",
              "      border-top-color: var(--fill-color);\n",
              "      border-right-color: var(--fill-color);\n",
              "    }\n",
              "    40% {\n",
              "      border-color: transparent;\n",
              "      border-right-color: var(--fill-color);\n",
              "      border-top-color: var(--fill-color);\n",
              "    }\n",
              "    60% {\n",
              "      border-color: transparent;\n",
              "      border-right-color: var(--fill-color);\n",
              "    }\n",
              "    80% {\n",
              "      border-color: transparent;\n",
              "      border-right-color: var(--fill-color);\n",
              "      border-bottom-color: var(--fill-color);\n",
              "    }\n",
              "    90% {\n",
              "      border-color: transparent;\n",
              "      border-bottom-color: var(--fill-color);\n",
              "    }\n",
              "  }\n",
              "</style>\n",
              "\n",
              "  <script>\n",
              "    async function quickchart(key) {\n",
              "      const quickchartButtonEl =\n",
              "        document.querySelector('#' + key + ' button');\n",
              "      quickchartButtonEl.disabled = true;  // To prevent multiple clicks.\n",
              "      quickchartButtonEl.classList.add('colab-df-spinner');\n",
              "      try {\n",
              "        const charts = await google.colab.kernel.invokeFunction(\n",
              "            'suggestCharts', [key], {});\n",
              "      } catch (error) {\n",
              "        console.error('Error during call to suggestCharts:', error);\n",
              "      }\n",
              "      quickchartButtonEl.classList.remove('colab-df-spinner');\n",
              "      quickchartButtonEl.classList.add('colab-df-quickchart-complete');\n",
              "    }\n",
              "    (() => {\n",
              "      let quickchartButtonEl =\n",
              "        document.querySelector('#df-101267b9-f29f-4c9e-8c9c-6a0407e77734 button');\n",
              "      quickchartButtonEl.style.display =\n",
              "        google.colab.kernel.accessAllowed ? 'block' : 'none';\n",
              "    })();\n",
              "  </script>\n",
              "</div>\n",
              "\n",
              "    </div>\n",
              "  </div>\n"
            ],
            "application/vnd.google.colaboratory.intrinsic+json": {
              "type": "dataframe",
              "variable_name": "df"
            }
          },
          "metadata": {},
          "execution_count": 4
        }
      ]
    },
    {
      "cell_type": "markdown",
      "source": [
        "**Afficher les détails des colonnes **"
      ],
      "metadata": {
        "id": "OuVP5x37kHFw"
      }
    },
    {
      "cell_type": "code",
      "source": [
        "df.info()"
      ],
      "metadata": {
        "colab": {
          "base_uri": "https://localhost:8080/"
        },
        "id": "8Lvwhq_YkIjV",
        "outputId": "54adc984-6c80-4385-aecf-41295c280a19"
      },
      "execution_count": 5,
      "outputs": [
        {
          "output_type": "stream",
          "name": "stdout",
          "text": [
            "<class 'pandas.core.frame.DataFrame'>\n",
            "RangeIndex: 1567 entries, 0 to 1566\n",
            "Columns: 593 entries, Time to Pass/Fail\n",
            "dtypes: float64(590), int64(1), object(2)\n",
            "memory usage: 7.1+ MB\n"
          ]
        }
      ]
    },
    {
      "cell_type": "markdown",
      "source": [
        "**Afficher des statistiques descriptives**"
      ],
      "metadata": {
        "id": "iOsVVgj1kw5B"
      }
    },
    {
      "cell_type": "code",
      "source": [
        "df.describe()"
      ],
      "metadata": {
        "colab": {
          "base_uri": "https://localhost:8080/",
          "height": 346
        },
        "id": "dS0yQXSKkywq",
        "outputId": "da788462-13f6-4387-826c-9a1008764f93"
      },
      "execution_count": 6,
      "outputs": [
        {
          "output_type": "execute_result",
          "data": {
            "text/plain": [
              "                 0            1            2            3            4  \\\n",
              "count  1561.000000  1560.000000  1553.000000  1553.000000  1553.000000   \n",
              "mean   3014.452896  2495.850231  2200.547318  1396.376627     4.197013   \n",
              "std      73.621787    80.407705    29.513152   441.691640    56.355540   \n",
              "min    2743.240000  2158.750000  2060.660000     0.000000     0.681500   \n",
              "25%    2966.260000  2452.247500  2181.044400  1081.875800     1.017700   \n",
              "50%    3011.490000  2499.405000  2201.066700  1285.214400     1.316800   \n",
              "75%    3056.650000  2538.822500  2218.055500  1591.223500     1.525700   \n",
              "max    3356.350000  2846.440000  2315.266700  3715.041700  1114.536600   \n",
              "\n",
              "            5            6            7            8            9  ...  \\\n",
              "count  1553.0  1553.000000  1558.000000  1565.000000  1565.000000  ...   \n",
              "mean    100.0   101.112908     0.121822     1.462862    -0.000841  ...   \n",
              "std       0.0     6.237214     0.008961     0.073897     0.015116  ...   \n",
              "min     100.0    82.131100     0.000000     1.191000    -0.053400  ...   \n",
              "25%     100.0    97.920000     0.121100     1.411200    -0.010800  ...   \n",
              "50%     100.0   101.512200     0.122400     1.461600    -0.001300  ...   \n",
              "75%     100.0   104.586700     0.123800     1.516900     0.008400  ...   \n",
              "max     100.0   129.252200     0.128600     1.656400     0.074900  ...   \n",
              "\n",
              "              581          582          583          584          585  \\\n",
              "count  618.000000  1566.000000  1566.000000  1566.000000  1566.000000   \n",
              "mean    97.934373     0.500096     0.015318     0.003847     3.067826   \n",
              "std     87.520966     0.003404     0.017180     0.003720     3.578033   \n",
              "min      0.000000     0.477800     0.006000     0.001700     1.197500   \n",
              "25%     46.184900     0.497900     0.011600     0.003100     2.306500   \n",
              "50%     72.288900     0.500200     0.013800     0.003600     2.757650   \n",
              "75%    116.539150     0.502375     0.016500     0.004100     3.295175   \n",
              "max    737.304800     0.509800     0.476600     0.104500    99.303200   \n",
              "\n",
              "               586          587          588          589    Pass/Fail  \n",
              "count  1566.000000  1566.000000  1566.000000  1566.000000  1567.000000  \n",
              "mean      0.021458     0.016475     0.005283    99.670066    -0.867262  \n",
              "std       0.012358     0.008808     0.002867    93.891919     0.498010  \n",
              "min      -0.016900     0.003200     0.001000     0.000000    -1.000000  \n",
              "25%       0.013425     0.010600     0.003300    44.368600    -1.000000  \n",
              "50%       0.020500     0.014800     0.004600    71.900500    -1.000000  \n",
              "75%       0.027600     0.020300     0.006400   114.749700    -1.000000  \n",
              "max       0.102800     0.079900     0.028600   737.304800     1.000000  \n",
              "\n",
              "[8 rows x 591 columns]"
            ],
            "text/html": [
              "\n",
              "  <div id=\"df-36dc7796-65b2-4d8e-bc76-cdb177365467\" class=\"colab-df-container\">\n",
              "    <div>\n",
              "<style scoped>\n",
              "    .dataframe tbody tr th:only-of-type {\n",
              "        vertical-align: middle;\n",
              "    }\n",
              "\n",
              "    .dataframe tbody tr th {\n",
              "        vertical-align: top;\n",
              "    }\n",
              "\n",
              "    .dataframe thead th {\n",
              "        text-align: right;\n",
              "    }\n",
              "</style>\n",
              "<table border=\"1\" class=\"dataframe\">\n",
              "  <thead>\n",
              "    <tr style=\"text-align: right;\">\n",
              "      <th></th>\n",
              "      <th>0</th>\n",
              "      <th>1</th>\n",
              "      <th>2</th>\n",
              "      <th>3</th>\n",
              "      <th>4</th>\n",
              "      <th>5</th>\n",
              "      <th>6</th>\n",
              "      <th>7</th>\n",
              "      <th>8</th>\n",
              "      <th>9</th>\n",
              "      <th>...</th>\n",
              "      <th>581</th>\n",
              "      <th>582</th>\n",
              "      <th>583</th>\n",
              "      <th>584</th>\n",
              "      <th>585</th>\n",
              "      <th>586</th>\n",
              "      <th>587</th>\n",
              "      <th>588</th>\n",
              "      <th>589</th>\n",
              "      <th>Pass/Fail</th>\n",
              "    </tr>\n",
              "  </thead>\n",
              "  <tbody>\n",
              "    <tr>\n",
              "      <th>count</th>\n",
              "      <td>1561.000000</td>\n",
              "      <td>1560.000000</td>\n",
              "      <td>1553.000000</td>\n",
              "      <td>1553.000000</td>\n",
              "      <td>1553.000000</td>\n",
              "      <td>1553.0</td>\n",
              "      <td>1553.000000</td>\n",
              "      <td>1558.000000</td>\n",
              "      <td>1565.000000</td>\n",
              "      <td>1565.000000</td>\n",
              "      <td>...</td>\n",
              "      <td>618.000000</td>\n",
              "      <td>1566.000000</td>\n",
              "      <td>1566.000000</td>\n",
              "      <td>1566.000000</td>\n",
              "      <td>1566.000000</td>\n",
              "      <td>1566.000000</td>\n",
              "      <td>1566.000000</td>\n",
              "      <td>1566.000000</td>\n",
              "      <td>1566.000000</td>\n",
              "      <td>1567.000000</td>\n",
              "    </tr>\n",
              "    <tr>\n",
              "      <th>mean</th>\n",
              "      <td>3014.452896</td>\n",
              "      <td>2495.850231</td>\n",
              "      <td>2200.547318</td>\n",
              "      <td>1396.376627</td>\n",
              "      <td>4.197013</td>\n",
              "      <td>100.0</td>\n",
              "      <td>101.112908</td>\n",
              "      <td>0.121822</td>\n",
              "      <td>1.462862</td>\n",
              "      <td>-0.000841</td>\n",
              "      <td>...</td>\n",
              "      <td>97.934373</td>\n",
              "      <td>0.500096</td>\n",
              "      <td>0.015318</td>\n",
              "      <td>0.003847</td>\n",
              "      <td>3.067826</td>\n",
              "      <td>0.021458</td>\n",
              "      <td>0.016475</td>\n",
              "      <td>0.005283</td>\n",
              "      <td>99.670066</td>\n",
              "      <td>-0.867262</td>\n",
              "    </tr>\n",
              "    <tr>\n",
              "      <th>std</th>\n",
              "      <td>73.621787</td>\n",
              "      <td>80.407705</td>\n",
              "      <td>29.513152</td>\n",
              "      <td>441.691640</td>\n",
              "      <td>56.355540</td>\n",
              "      <td>0.0</td>\n",
              "      <td>6.237214</td>\n",
              "      <td>0.008961</td>\n",
              "      <td>0.073897</td>\n",
              "      <td>0.015116</td>\n",
              "      <td>...</td>\n",
              "      <td>87.520966</td>\n",
              "      <td>0.003404</td>\n",
              "      <td>0.017180</td>\n",
              "      <td>0.003720</td>\n",
              "      <td>3.578033</td>\n",
              "      <td>0.012358</td>\n",
              "      <td>0.008808</td>\n",
              "      <td>0.002867</td>\n",
              "      <td>93.891919</td>\n",
              "      <td>0.498010</td>\n",
              "    </tr>\n",
              "    <tr>\n",
              "      <th>min</th>\n",
              "      <td>2743.240000</td>\n",
              "      <td>2158.750000</td>\n",
              "      <td>2060.660000</td>\n",
              "      <td>0.000000</td>\n",
              "      <td>0.681500</td>\n",
              "      <td>100.0</td>\n",
              "      <td>82.131100</td>\n",
              "      <td>0.000000</td>\n",
              "      <td>1.191000</td>\n",
              "      <td>-0.053400</td>\n",
              "      <td>...</td>\n",
              "      <td>0.000000</td>\n",
              "      <td>0.477800</td>\n",
              "      <td>0.006000</td>\n",
              "      <td>0.001700</td>\n",
              "      <td>1.197500</td>\n",
              "      <td>-0.016900</td>\n",
              "      <td>0.003200</td>\n",
              "      <td>0.001000</td>\n",
              "      <td>0.000000</td>\n",
              "      <td>-1.000000</td>\n",
              "    </tr>\n",
              "    <tr>\n",
              "      <th>25%</th>\n",
              "      <td>2966.260000</td>\n",
              "      <td>2452.247500</td>\n",
              "      <td>2181.044400</td>\n",
              "      <td>1081.875800</td>\n",
              "      <td>1.017700</td>\n",
              "      <td>100.0</td>\n",
              "      <td>97.920000</td>\n",
              "      <td>0.121100</td>\n",
              "      <td>1.411200</td>\n",
              "      <td>-0.010800</td>\n",
              "      <td>...</td>\n",
              "      <td>46.184900</td>\n",
              "      <td>0.497900</td>\n",
              "      <td>0.011600</td>\n",
              "      <td>0.003100</td>\n",
              "      <td>2.306500</td>\n",
              "      <td>0.013425</td>\n",
              "      <td>0.010600</td>\n",
              "      <td>0.003300</td>\n",
              "      <td>44.368600</td>\n",
              "      <td>-1.000000</td>\n",
              "    </tr>\n",
              "    <tr>\n",
              "      <th>50%</th>\n",
              "      <td>3011.490000</td>\n",
              "      <td>2499.405000</td>\n",
              "      <td>2201.066700</td>\n",
              "      <td>1285.214400</td>\n",
              "      <td>1.316800</td>\n",
              "      <td>100.0</td>\n",
              "      <td>101.512200</td>\n",
              "      <td>0.122400</td>\n",
              "      <td>1.461600</td>\n",
              "      <td>-0.001300</td>\n",
              "      <td>...</td>\n",
              "      <td>72.288900</td>\n",
              "      <td>0.500200</td>\n",
              "      <td>0.013800</td>\n",
              "      <td>0.003600</td>\n",
              "      <td>2.757650</td>\n",
              "      <td>0.020500</td>\n",
              "      <td>0.014800</td>\n",
              "      <td>0.004600</td>\n",
              "      <td>71.900500</td>\n",
              "      <td>-1.000000</td>\n",
              "    </tr>\n",
              "    <tr>\n",
              "      <th>75%</th>\n",
              "      <td>3056.650000</td>\n",
              "      <td>2538.822500</td>\n",
              "      <td>2218.055500</td>\n",
              "      <td>1591.223500</td>\n",
              "      <td>1.525700</td>\n",
              "      <td>100.0</td>\n",
              "      <td>104.586700</td>\n",
              "      <td>0.123800</td>\n",
              "      <td>1.516900</td>\n",
              "      <td>0.008400</td>\n",
              "      <td>...</td>\n",
              "      <td>116.539150</td>\n",
              "      <td>0.502375</td>\n",
              "      <td>0.016500</td>\n",
              "      <td>0.004100</td>\n",
              "      <td>3.295175</td>\n",
              "      <td>0.027600</td>\n",
              "      <td>0.020300</td>\n",
              "      <td>0.006400</td>\n",
              "      <td>114.749700</td>\n",
              "      <td>-1.000000</td>\n",
              "    </tr>\n",
              "    <tr>\n",
              "      <th>max</th>\n",
              "      <td>3356.350000</td>\n",
              "      <td>2846.440000</td>\n",
              "      <td>2315.266700</td>\n",
              "      <td>3715.041700</td>\n",
              "      <td>1114.536600</td>\n",
              "      <td>100.0</td>\n",
              "      <td>129.252200</td>\n",
              "      <td>0.128600</td>\n",
              "      <td>1.656400</td>\n",
              "      <td>0.074900</td>\n",
              "      <td>...</td>\n",
              "      <td>737.304800</td>\n",
              "      <td>0.509800</td>\n",
              "      <td>0.476600</td>\n",
              "      <td>0.104500</td>\n",
              "      <td>99.303200</td>\n",
              "      <td>0.102800</td>\n",
              "      <td>0.079900</td>\n",
              "      <td>0.028600</td>\n",
              "      <td>737.304800</td>\n",
              "      <td>1.000000</td>\n",
              "    </tr>\n",
              "  </tbody>\n",
              "</table>\n",
              "<p>8 rows × 591 columns</p>\n",
              "</div>\n",
              "    <div class=\"colab-df-buttons\">\n",
              "\n",
              "  <div class=\"colab-df-container\">\n",
              "    <button class=\"colab-df-convert\" onclick=\"convertToInteractive('df-36dc7796-65b2-4d8e-bc76-cdb177365467')\"\n",
              "            title=\"Convert this dataframe to an interactive table.\"\n",
              "            style=\"display:none;\">\n",
              "\n",
              "  <svg xmlns=\"http://www.w3.org/2000/svg\" height=\"24px\" viewBox=\"0 -960 960 960\">\n",
              "    <path d=\"M120-120v-720h720v720H120Zm60-500h600v-160H180v160Zm220 220h160v-160H400v160Zm0 220h160v-160H400v160ZM180-400h160v-160H180v160Zm440 0h160v-160H620v160ZM180-180h160v-160H180v160Zm440 0h160v-160H620v160Z\"/>\n",
              "  </svg>\n",
              "    </button>\n",
              "\n",
              "  <style>\n",
              "    .colab-df-container {\n",
              "      display:flex;\n",
              "      gap: 12px;\n",
              "    }\n",
              "\n",
              "    .colab-df-convert {\n",
              "      background-color: #E8F0FE;\n",
              "      border: none;\n",
              "      border-radius: 50%;\n",
              "      cursor: pointer;\n",
              "      display: none;\n",
              "      fill: #1967D2;\n",
              "      height: 32px;\n",
              "      padding: 0 0 0 0;\n",
              "      width: 32px;\n",
              "    }\n",
              "\n",
              "    .colab-df-convert:hover {\n",
              "      background-color: #E2EBFA;\n",
              "      box-shadow: 0px 1px 2px rgba(60, 64, 67, 0.3), 0px 1px 3px 1px rgba(60, 64, 67, 0.15);\n",
              "      fill: #174EA6;\n",
              "    }\n",
              "\n",
              "    .colab-df-buttons div {\n",
              "      margin-bottom: 4px;\n",
              "    }\n",
              "\n",
              "    [theme=dark] .colab-df-convert {\n",
              "      background-color: #3B4455;\n",
              "      fill: #D2E3FC;\n",
              "    }\n",
              "\n",
              "    [theme=dark] .colab-df-convert:hover {\n",
              "      background-color: #434B5C;\n",
              "      box-shadow: 0px 1px 3px 1px rgba(0, 0, 0, 0.15);\n",
              "      filter: drop-shadow(0px 1px 2px rgba(0, 0, 0, 0.3));\n",
              "      fill: #FFFFFF;\n",
              "    }\n",
              "  </style>\n",
              "\n",
              "    <script>\n",
              "      const buttonEl =\n",
              "        document.querySelector('#df-36dc7796-65b2-4d8e-bc76-cdb177365467 button.colab-df-convert');\n",
              "      buttonEl.style.display =\n",
              "        google.colab.kernel.accessAllowed ? 'block' : 'none';\n",
              "\n",
              "      async function convertToInteractive(key) {\n",
              "        const element = document.querySelector('#df-36dc7796-65b2-4d8e-bc76-cdb177365467');\n",
              "        const dataTable =\n",
              "          await google.colab.kernel.invokeFunction('convertToInteractive',\n",
              "                                                    [key], {});\n",
              "        if (!dataTable) return;\n",
              "\n",
              "        const docLinkHtml = 'Like what you see? Visit the ' +\n",
              "          '<a target=\"_blank\" href=https://colab.research.google.com/notebooks/data_table.ipynb>data table notebook</a>'\n",
              "          + ' to learn more about interactive tables.';\n",
              "        element.innerHTML = '';\n",
              "        dataTable['output_type'] = 'display_data';\n",
              "        await google.colab.output.renderOutput(dataTable, element);\n",
              "        const docLink = document.createElement('div');\n",
              "        docLink.innerHTML = docLinkHtml;\n",
              "        element.appendChild(docLink);\n",
              "      }\n",
              "    </script>\n",
              "  </div>\n",
              "\n",
              "\n",
              "<div id=\"df-1207641c-304f-4b80-a355-32e88e86d525\">\n",
              "  <button class=\"colab-df-quickchart\" onclick=\"quickchart('df-1207641c-304f-4b80-a355-32e88e86d525')\"\n",
              "            title=\"Suggest charts\"\n",
              "            style=\"display:none;\">\n",
              "\n",
              "<svg xmlns=\"http://www.w3.org/2000/svg\" height=\"24px\"viewBox=\"0 0 24 24\"\n",
              "     width=\"24px\">\n",
              "    <g>\n",
              "        <path d=\"M19 3H5c-1.1 0-2 .9-2 2v14c0 1.1.9 2 2 2h14c1.1 0 2-.9 2-2V5c0-1.1-.9-2-2-2zM9 17H7v-7h2v7zm4 0h-2V7h2v10zm4 0h-2v-4h2v4z\"/>\n",
              "    </g>\n",
              "</svg>\n",
              "  </button>\n",
              "\n",
              "<style>\n",
              "  .colab-df-quickchart {\n",
              "      --bg-color: #E8F0FE;\n",
              "      --fill-color: #1967D2;\n",
              "      --hover-bg-color: #E2EBFA;\n",
              "      --hover-fill-color: #174EA6;\n",
              "      --disabled-fill-color: #AAA;\n",
              "      --disabled-bg-color: #DDD;\n",
              "  }\n",
              "\n",
              "  [theme=dark] .colab-df-quickchart {\n",
              "      --bg-color: #3B4455;\n",
              "      --fill-color: #D2E3FC;\n",
              "      --hover-bg-color: #434B5C;\n",
              "      --hover-fill-color: #FFFFFF;\n",
              "      --disabled-bg-color: #3B4455;\n",
              "      --disabled-fill-color: #666;\n",
              "  }\n",
              "\n",
              "  .colab-df-quickchart {\n",
              "    background-color: var(--bg-color);\n",
              "    border: none;\n",
              "    border-radius: 50%;\n",
              "    cursor: pointer;\n",
              "    display: none;\n",
              "    fill: var(--fill-color);\n",
              "    height: 32px;\n",
              "    padding: 0;\n",
              "    width: 32px;\n",
              "  }\n",
              "\n",
              "  .colab-df-quickchart:hover {\n",
              "    background-color: var(--hover-bg-color);\n",
              "    box-shadow: 0 1px 2px rgba(60, 64, 67, 0.3), 0 1px 3px 1px rgba(60, 64, 67, 0.15);\n",
              "    fill: var(--button-hover-fill-color);\n",
              "  }\n",
              "\n",
              "  .colab-df-quickchart-complete:disabled,\n",
              "  .colab-df-quickchart-complete:disabled:hover {\n",
              "    background-color: var(--disabled-bg-color);\n",
              "    fill: var(--disabled-fill-color);\n",
              "    box-shadow: none;\n",
              "  }\n",
              "\n",
              "  .colab-df-spinner {\n",
              "    border: 2px solid var(--fill-color);\n",
              "    border-color: transparent;\n",
              "    border-bottom-color: var(--fill-color);\n",
              "    animation:\n",
              "      spin 1s steps(1) infinite;\n",
              "  }\n",
              "\n",
              "  @keyframes spin {\n",
              "    0% {\n",
              "      border-color: transparent;\n",
              "      border-bottom-color: var(--fill-color);\n",
              "      border-left-color: var(--fill-color);\n",
              "    }\n",
              "    20% {\n",
              "      border-color: transparent;\n",
              "      border-left-color: var(--fill-color);\n",
              "      border-top-color: var(--fill-color);\n",
              "    }\n",
              "    30% {\n",
              "      border-color: transparent;\n",
              "      border-left-color: var(--fill-color);\n",
              "      border-top-color: var(--fill-color);\n",
              "      border-right-color: var(--fill-color);\n",
              "    }\n",
              "    40% {\n",
              "      border-color: transparent;\n",
              "      border-right-color: var(--fill-color);\n",
              "      border-top-color: var(--fill-color);\n",
              "    }\n",
              "    60% {\n",
              "      border-color: transparent;\n",
              "      border-right-color: var(--fill-color);\n",
              "    }\n",
              "    80% {\n",
              "      border-color: transparent;\n",
              "      border-right-color: var(--fill-color);\n",
              "      border-bottom-color: var(--fill-color);\n",
              "    }\n",
              "    90% {\n",
              "      border-color: transparent;\n",
              "      border-bottom-color: var(--fill-color);\n",
              "    }\n",
              "  }\n",
              "</style>\n",
              "\n",
              "  <script>\n",
              "    async function quickchart(key) {\n",
              "      const quickchartButtonEl =\n",
              "        document.querySelector('#' + key + ' button');\n",
              "      quickchartButtonEl.disabled = true;  // To prevent multiple clicks.\n",
              "      quickchartButtonEl.classList.add('colab-df-spinner');\n",
              "      try {\n",
              "        const charts = await google.colab.kernel.invokeFunction(\n",
              "            'suggestCharts', [key], {});\n",
              "      } catch (error) {\n",
              "        console.error('Error during call to suggestCharts:', error);\n",
              "      }\n",
              "      quickchartButtonEl.classList.remove('colab-df-spinner');\n",
              "      quickchartButtonEl.classList.add('colab-df-quickchart-complete');\n",
              "    }\n",
              "    (() => {\n",
              "      let quickchartButtonEl =\n",
              "        document.querySelector('#df-1207641c-304f-4b80-a355-32e88e86d525 button');\n",
              "      quickchartButtonEl.style.display =\n",
              "        google.colab.kernel.accessAllowed ? 'block' : 'none';\n",
              "    })();\n",
              "  </script>\n",
              "</div>\n",
              "\n",
              "    </div>\n",
              "  </div>\n"
            ],
            "application/vnd.google.colaboratory.intrinsic+json": {
              "type": "dataframe"
            }
          },
          "metadata": {},
          "execution_count": 6
        }
      ]
    },
    {
      "cell_type": "markdown",
      "source": [
        "**Vérifier les types de données des colonnes**"
      ],
      "metadata": {
        "id": "3RbmISPvlghs"
      }
    },
    {
      "cell_type": "code",
      "source": [
        "print(df.dtypes)"
      ],
      "metadata": {
        "colab": {
          "base_uri": "https://localhost:8080/"
        },
        "id": "g_m2zz7vljCg",
        "outputId": "66d9a96a-b619-4dc7-fa80-ba64d851f65c"
      },
      "execution_count": 7,
      "outputs": [
        {
          "output_type": "stream",
          "name": "stdout",
          "text": [
            "Time          object\n",
            "0            float64\n",
            "1            float64\n",
            "2            float64\n",
            "3            float64\n",
            "              ...   \n",
            "587          float64\n",
            "588          float64\n",
            "589          float64\n",
            "Phase         object\n",
            "Pass/Fail      int64\n",
            "Length: 593, dtype: object\n"
          ]
        }
      ]
    },
    {
      "cell_type": "markdown",
      "source": [
        "**Vérifier les valeurs manquantes**"
      ],
      "metadata": {
        "id": "VntZGY9xnHsk"
      }
    },
    {
      "cell_type": "code",
      "source": [
        "print(\"Valeurs manquantes par colonne :\\n\")\n",
        "print(df.isnull().sum())"
      ],
      "metadata": {
        "colab": {
          "base_uri": "https://localhost:8080/"
        },
        "id": "CG5YaUQWnJCA",
        "outputId": "fd260ee6-04dd-4b5d-cf84-10861154f187"
      },
      "execution_count": 9,
      "outputs": [
        {
          "output_type": "stream",
          "name": "stdout",
          "text": [
            "Valeurs manquantes par colonne :\n",
            "\n",
            "Time          0\n",
            "0             6\n",
            "1             7\n",
            "2            14\n",
            "3            14\n",
            "             ..\n",
            "587           1\n",
            "588           1\n",
            "589           1\n",
            "Phase         0\n",
            "Pass/Fail     0\n",
            "Length: 593, dtype: int64\n"
          ]
        }
      ]
    },
    {
      "cell_type": "markdown",
      "source": [
        "** Code pour gérer les valeurs manquantes**"
      ],
      "metadata": {
        "id": "48AzmqF2ngm5"
      }
    },
    {
      "cell_type": "code",
      "source": [
        "# Remplissage des valeurs manquantes pour les colonnes numériques avec la médiane\n",
        "df.fillna(df.median(numeric_only=True), inplace=True)\n",
        "\n",
        "# Vérification après traitement\n",
        "print(\"Valeurs manquantes après traitement :\\n\")\n",
        "print(df.isnull().sum())"
      ],
      "metadata": {
        "colab": {
          "base_uri": "https://localhost:8080/"
        },
        "id": "lh7pge1mnh0c",
        "outputId": "6b7dd822-f22e-45d4-c28c-60e85c55884a"
      },
      "execution_count": 10,
      "outputs": [
        {
          "output_type": "stream",
          "name": "stdout",
          "text": [
            "Valeurs manquantes après traitement :\n",
            "\n",
            "Time         0\n",
            "0            0\n",
            "1            0\n",
            "2            0\n",
            "3            0\n",
            "            ..\n",
            "587          0\n",
            "588          0\n",
            "589          0\n",
            "Phase        0\n",
            "Pass/Fail    0\n",
            "Length: 593, dtype: int64\n"
          ]
        }
      ]
    },
    {
      "cell_type": "markdown",
      "source": [
        "**Supprimer TIME**"
      ],
      "metadata": {
        "id": "MncqIa2WqXVh"
      }
    },
    {
      "cell_type": "code",
      "source": [
        "df = df.drop(columns=['Time'])"
      ],
      "metadata": {
        "id": "81UH2n0rqcRg"
      },
      "execution_count": 12,
      "outputs": []
    },
    {
      "cell_type": "markdown",
      "source": [
        "**équilibres des données**"
      ],
      "metadata": {
        "id": "3q6s-IAksmlV"
      }
    },
    {
      "cell_type": "code",
      "source": [
        "print(\"Répartition des classes dans 'Pass/Fail' :\\n\", df['Pass/Fail'].value_counts())\n"
      ],
      "metadata": {
        "colab": {
          "base_uri": "https://localhost:8080/"
        },
        "id": "3jz8Ipryslns",
        "outputId": "be7283b6-8bc8-478b-a6a6-a0eefd2c02b7"
      },
      "execution_count": 17,
      "outputs": [
        {
          "output_type": "stream",
          "name": "stdout",
          "text": [
            "Répartition des classes dans 'Pass/Fail' :\n",
            " Pass/Fail\n",
            "-1    1463\n",
            " 1     104\n",
            "Name: count, dtype: int64\n"
          ]
        }
      ]
    },
    {
      "cell_type": "code",
      "source": [
        "from imblearn.over_sampling import SMOTE\n",
        "from sklearn.model_selection import train_test_split\n",
        "\n",
        "# Séparez les caractéristiques et les labels\n",
        "X = df.drop('Pass/Fail', axis=1)  # Remplacez par le nom correct des colonnes de caractéristiques\n",
        "y = df['Pass/Fail']\n",
        "\n",
        "# Divisez les données en ensemble d'entraînement et ensemble de test\n",
        "X_train, X_test, y_train, y_test = train_test_split(X, y, test_size=0.3, random_state=42)\n",
        "\n",
        "# Appliquez SMOTE pour équilibrer les classes dans l'ensemble d'entraînement\n",
        "smote = SMOTE(sampling_strategy='auto', random_state=42)\n",
        "X_train_resampled, y_train_resampled = smote.fit_resample(X_train, y_train)\n",
        "\n",
        "print(\"Répartition des classes après SMOTE :\")\n",
        "print(y_train_resampled.value_counts())"
      ],
      "metadata": {
        "colab": {
          "base_uri": "https://localhost:8080/"
        },
        "id": "oZ2MeLvQs103",
        "outputId": "b9d9072b-052b-4f50-c276-376d829c37e8"
      },
      "execution_count": 18,
      "outputs": [
        {
          "output_type": "stream",
          "name": "stdout",
          "text": [
            "Répartition des classes après SMOTE :\n",
            "Pass/Fail\n",
            "-1    1023\n",
            " 1    1023\n",
            "Name: count, dtype: int64\n"
          ]
        }
      ]
    },
    {
      "cell_type": "markdown",
      "source": [
        "**Etape d'encodage**"
      ],
      "metadata": {
        "id": "wNtPwWMvwSGS"
      }
    },
    {
      "cell_type": "code",
      "source": [
        "# Dictionnaire d'encodage des catégories\n",
        "encoding = {\n",
        "    'Gravure': 0,\n",
        "    'Lithographie': 1,\n",
        "    'Métallisation': 2,\n",
        "    'Test électrique': 3,\n",
        "    'Implantation ionique': 4,\n",
        "    'Dépôt de couches minces': 5\n",
        "}\n",
        "\n",
        "# Appliquez l'encodage\n",
        "df['Phase_encoded'] = df['Phase'].map(encoding)\n",
        "\n",
        "# Affichez les résultats\n",
        "print(df[['Phase', 'Phase_encoded']].head())"
      ],
      "metadata": {
        "colab": {
          "base_uri": "https://localhost:8080/"
        },
        "id": "eMB-J-HnwU2L",
        "outputId": "c6a21e9b-3d2e-48ab-bff7-e26df94c651e"
      },
      "execution_count": 19,
      "outputs": [
        {
          "output_type": "stream",
          "name": "stdout",
          "text": [
            "   Phase  Phase_encoded\n",
            "0      1            NaN\n",
            "1      3            NaN\n",
            "2      4            NaN\n",
            "3      5            NaN\n",
            "4      2            NaN\n"
          ]
        }
      ]
    },
    {
      "cell_type": "code",
      "source": [
        "df = df.drop(columns=['Phase_encoded'])"
      ],
      "metadata": {
        "id": "HSVTOFS8wwjt"
      },
      "execution_count": 21,
      "outputs": []
    },
    {
      "cell_type": "code",
      "source": [
        "df.head()"
      ],
      "metadata": {
        "colab": {
          "base_uri": "https://localhost:8080/",
          "height": 253
        },
        "id": "m90sPrzow4qP",
        "outputId": "0e35be84-b14a-4703-8cdf-a5db867c534b"
      },
      "execution_count": 22,
      "outputs": [
        {
          "output_type": "execute_result",
          "data": {
            "text/plain": [
              "         0        1          2          3       4      5         6       7  \\\n",
              "0  3030.93  2564.00  2187.7333  1411.1265  1.3602  100.0   97.6133  0.1242   \n",
              "1  3095.78  2465.14  2230.4222  1463.6606  0.8294  100.0  102.3433  0.1247   \n",
              "2  2932.61  2559.94  2186.4111  1698.0172  1.5102  100.0   95.4878  0.1241   \n",
              "3  2988.72  2479.90  2199.0333   909.7926  1.3204  100.0  104.2367  0.1217   \n",
              "4  3032.24  2502.87  2233.3667  1326.5200  1.5334  100.0  100.3967  0.1235   \n",
              "\n",
              "        8       9  ...     582     583     584      585     586     587  \\\n",
              "0  1.5005  0.0162  ...  0.5005  0.0118  0.0035   2.3630  0.0205  0.0148   \n",
              "1  1.4966 -0.0005  ...  0.5019  0.0223  0.0055   4.4447  0.0096  0.0201   \n",
              "2  1.4436  0.0041  ...  0.4958  0.0157  0.0039   3.1745  0.0584  0.0484   \n",
              "3  1.4882 -0.0124  ...  0.4990  0.0103  0.0025   2.0544  0.0202  0.0149   \n",
              "4  1.5031 -0.0031  ...  0.4800  0.4766  0.1045  99.3032  0.0202  0.0149   \n",
              "\n",
              "      588       589  Phase  Pass/Fail  \n",
              "0  0.0046   71.9005      1         -1  \n",
              "1  0.0060  208.2045      3         -1  \n",
              "2  0.0148   82.8602      4          1  \n",
              "3  0.0044   73.8432      5         -1  \n",
              "4  0.0044   73.8432      2         -1  \n",
              "\n",
              "[5 rows x 592 columns]"
            ],
            "text/html": [
              "\n",
              "  <div id=\"df-f2d373bb-8b88-4c29-a3dc-3e8f34580841\" class=\"colab-df-container\">\n",
              "    <div>\n",
              "<style scoped>\n",
              "    .dataframe tbody tr th:only-of-type {\n",
              "        vertical-align: middle;\n",
              "    }\n",
              "\n",
              "    .dataframe tbody tr th {\n",
              "        vertical-align: top;\n",
              "    }\n",
              "\n",
              "    .dataframe thead th {\n",
              "        text-align: right;\n",
              "    }\n",
              "</style>\n",
              "<table border=\"1\" class=\"dataframe\">\n",
              "  <thead>\n",
              "    <tr style=\"text-align: right;\">\n",
              "      <th></th>\n",
              "      <th>0</th>\n",
              "      <th>1</th>\n",
              "      <th>2</th>\n",
              "      <th>3</th>\n",
              "      <th>4</th>\n",
              "      <th>5</th>\n",
              "      <th>6</th>\n",
              "      <th>7</th>\n",
              "      <th>8</th>\n",
              "      <th>9</th>\n",
              "      <th>...</th>\n",
              "      <th>582</th>\n",
              "      <th>583</th>\n",
              "      <th>584</th>\n",
              "      <th>585</th>\n",
              "      <th>586</th>\n",
              "      <th>587</th>\n",
              "      <th>588</th>\n",
              "      <th>589</th>\n",
              "      <th>Phase</th>\n",
              "      <th>Pass/Fail</th>\n",
              "    </tr>\n",
              "  </thead>\n",
              "  <tbody>\n",
              "    <tr>\n",
              "      <th>0</th>\n",
              "      <td>3030.93</td>\n",
              "      <td>2564.00</td>\n",
              "      <td>2187.7333</td>\n",
              "      <td>1411.1265</td>\n",
              "      <td>1.3602</td>\n",
              "      <td>100.0</td>\n",
              "      <td>97.6133</td>\n",
              "      <td>0.1242</td>\n",
              "      <td>1.5005</td>\n",
              "      <td>0.0162</td>\n",
              "      <td>...</td>\n",
              "      <td>0.5005</td>\n",
              "      <td>0.0118</td>\n",
              "      <td>0.0035</td>\n",
              "      <td>2.3630</td>\n",
              "      <td>0.0205</td>\n",
              "      <td>0.0148</td>\n",
              "      <td>0.0046</td>\n",
              "      <td>71.9005</td>\n",
              "      <td>1</td>\n",
              "      <td>-1</td>\n",
              "    </tr>\n",
              "    <tr>\n",
              "      <th>1</th>\n",
              "      <td>3095.78</td>\n",
              "      <td>2465.14</td>\n",
              "      <td>2230.4222</td>\n",
              "      <td>1463.6606</td>\n",
              "      <td>0.8294</td>\n",
              "      <td>100.0</td>\n",
              "      <td>102.3433</td>\n",
              "      <td>0.1247</td>\n",
              "      <td>1.4966</td>\n",
              "      <td>-0.0005</td>\n",
              "      <td>...</td>\n",
              "      <td>0.5019</td>\n",
              "      <td>0.0223</td>\n",
              "      <td>0.0055</td>\n",
              "      <td>4.4447</td>\n",
              "      <td>0.0096</td>\n",
              "      <td>0.0201</td>\n",
              "      <td>0.0060</td>\n",
              "      <td>208.2045</td>\n",
              "      <td>3</td>\n",
              "      <td>-1</td>\n",
              "    </tr>\n",
              "    <tr>\n",
              "      <th>2</th>\n",
              "      <td>2932.61</td>\n",
              "      <td>2559.94</td>\n",
              "      <td>2186.4111</td>\n",
              "      <td>1698.0172</td>\n",
              "      <td>1.5102</td>\n",
              "      <td>100.0</td>\n",
              "      <td>95.4878</td>\n",
              "      <td>0.1241</td>\n",
              "      <td>1.4436</td>\n",
              "      <td>0.0041</td>\n",
              "      <td>...</td>\n",
              "      <td>0.4958</td>\n",
              "      <td>0.0157</td>\n",
              "      <td>0.0039</td>\n",
              "      <td>3.1745</td>\n",
              "      <td>0.0584</td>\n",
              "      <td>0.0484</td>\n",
              "      <td>0.0148</td>\n",
              "      <td>82.8602</td>\n",
              "      <td>4</td>\n",
              "      <td>1</td>\n",
              "    </tr>\n",
              "    <tr>\n",
              "      <th>3</th>\n",
              "      <td>2988.72</td>\n",
              "      <td>2479.90</td>\n",
              "      <td>2199.0333</td>\n",
              "      <td>909.7926</td>\n",
              "      <td>1.3204</td>\n",
              "      <td>100.0</td>\n",
              "      <td>104.2367</td>\n",
              "      <td>0.1217</td>\n",
              "      <td>1.4882</td>\n",
              "      <td>-0.0124</td>\n",
              "      <td>...</td>\n",
              "      <td>0.4990</td>\n",
              "      <td>0.0103</td>\n",
              "      <td>0.0025</td>\n",
              "      <td>2.0544</td>\n",
              "      <td>0.0202</td>\n",
              "      <td>0.0149</td>\n",
              "      <td>0.0044</td>\n",
              "      <td>73.8432</td>\n",
              "      <td>5</td>\n",
              "      <td>-1</td>\n",
              "    </tr>\n",
              "    <tr>\n",
              "      <th>4</th>\n",
              "      <td>3032.24</td>\n",
              "      <td>2502.87</td>\n",
              "      <td>2233.3667</td>\n",
              "      <td>1326.5200</td>\n",
              "      <td>1.5334</td>\n",
              "      <td>100.0</td>\n",
              "      <td>100.3967</td>\n",
              "      <td>0.1235</td>\n",
              "      <td>1.5031</td>\n",
              "      <td>-0.0031</td>\n",
              "      <td>...</td>\n",
              "      <td>0.4800</td>\n",
              "      <td>0.4766</td>\n",
              "      <td>0.1045</td>\n",
              "      <td>99.3032</td>\n",
              "      <td>0.0202</td>\n",
              "      <td>0.0149</td>\n",
              "      <td>0.0044</td>\n",
              "      <td>73.8432</td>\n",
              "      <td>2</td>\n",
              "      <td>-1</td>\n",
              "    </tr>\n",
              "  </tbody>\n",
              "</table>\n",
              "<p>5 rows × 592 columns</p>\n",
              "</div>\n",
              "    <div class=\"colab-df-buttons\">\n",
              "\n",
              "  <div class=\"colab-df-container\">\n",
              "    <button class=\"colab-df-convert\" onclick=\"convertToInteractive('df-f2d373bb-8b88-4c29-a3dc-3e8f34580841')\"\n",
              "            title=\"Convert this dataframe to an interactive table.\"\n",
              "            style=\"display:none;\">\n",
              "\n",
              "  <svg xmlns=\"http://www.w3.org/2000/svg\" height=\"24px\" viewBox=\"0 -960 960 960\">\n",
              "    <path d=\"M120-120v-720h720v720H120Zm60-500h600v-160H180v160Zm220 220h160v-160H400v160Zm0 220h160v-160H400v160ZM180-400h160v-160H180v160Zm440 0h160v-160H620v160ZM180-180h160v-160H180v160Zm440 0h160v-160H620v160Z\"/>\n",
              "  </svg>\n",
              "    </button>\n",
              "\n",
              "  <style>\n",
              "    .colab-df-container {\n",
              "      display:flex;\n",
              "      gap: 12px;\n",
              "    }\n",
              "\n",
              "    .colab-df-convert {\n",
              "      background-color: #E8F0FE;\n",
              "      border: none;\n",
              "      border-radius: 50%;\n",
              "      cursor: pointer;\n",
              "      display: none;\n",
              "      fill: #1967D2;\n",
              "      height: 32px;\n",
              "      padding: 0 0 0 0;\n",
              "      width: 32px;\n",
              "    }\n",
              "\n",
              "    .colab-df-convert:hover {\n",
              "      background-color: #E2EBFA;\n",
              "      box-shadow: 0px 1px 2px rgba(60, 64, 67, 0.3), 0px 1px 3px 1px rgba(60, 64, 67, 0.15);\n",
              "      fill: #174EA6;\n",
              "    }\n",
              "\n",
              "    .colab-df-buttons div {\n",
              "      margin-bottom: 4px;\n",
              "    }\n",
              "\n",
              "    [theme=dark] .colab-df-convert {\n",
              "      background-color: #3B4455;\n",
              "      fill: #D2E3FC;\n",
              "    }\n",
              "\n",
              "    [theme=dark] .colab-df-convert:hover {\n",
              "      background-color: #434B5C;\n",
              "      box-shadow: 0px 1px 3px 1px rgba(0, 0, 0, 0.15);\n",
              "      filter: drop-shadow(0px 1px 2px rgba(0, 0, 0, 0.3));\n",
              "      fill: #FFFFFF;\n",
              "    }\n",
              "  </style>\n",
              "\n",
              "    <script>\n",
              "      const buttonEl =\n",
              "        document.querySelector('#df-f2d373bb-8b88-4c29-a3dc-3e8f34580841 button.colab-df-convert');\n",
              "      buttonEl.style.display =\n",
              "        google.colab.kernel.accessAllowed ? 'block' : 'none';\n",
              "\n",
              "      async function convertToInteractive(key) {\n",
              "        const element = document.querySelector('#df-f2d373bb-8b88-4c29-a3dc-3e8f34580841');\n",
              "        const dataTable =\n",
              "          await google.colab.kernel.invokeFunction('convertToInteractive',\n",
              "                                                    [key], {});\n",
              "        if (!dataTable) return;\n",
              "\n",
              "        const docLinkHtml = 'Like what you see? Visit the ' +\n",
              "          '<a target=\"_blank\" href=https://colab.research.google.com/notebooks/data_table.ipynb>data table notebook</a>'\n",
              "          + ' to learn more about interactive tables.';\n",
              "        element.innerHTML = '';\n",
              "        dataTable['output_type'] = 'display_data';\n",
              "        await google.colab.output.renderOutput(dataTable, element);\n",
              "        const docLink = document.createElement('div');\n",
              "        docLink.innerHTML = docLinkHtml;\n",
              "        element.appendChild(docLink);\n",
              "      }\n",
              "    </script>\n",
              "  </div>\n",
              "\n",
              "\n",
              "<div id=\"df-2032efa5-35df-4591-bfc6-4a073bae13ff\">\n",
              "  <button class=\"colab-df-quickchart\" onclick=\"quickchart('df-2032efa5-35df-4591-bfc6-4a073bae13ff')\"\n",
              "            title=\"Suggest charts\"\n",
              "            style=\"display:none;\">\n",
              "\n",
              "<svg xmlns=\"http://www.w3.org/2000/svg\" height=\"24px\"viewBox=\"0 0 24 24\"\n",
              "     width=\"24px\">\n",
              "    <g>\n",
              "        <path d=\"M19 3H5c-1.1 0-2 .9-2 2v14c0 1.1.9 2 2 2h14c1.1 0 2-.9 2-2V5c0-1.1-.9-2-2-2zM9 17H7v-7h2v7zm4 0h-2V7h2v10zm4 0h-2v-4h2v4z\"/>\n",
              "    </g>\n",
              "</svg>\n",
              "  </button>\n",
              "\n",
              "<style>\n",
              "  .colab-df-quickchart {\n",
              "      --bg-color: #E8F0FE;\n",
              "      --fill-color: #1967D2;\n",
              "      --hover-bg-color: #E2EBFA;\n",
              "      --hover-fill-color: #174EA6;\n",
              "      --disabled-fill-color: #AAA;\n",
              "      --disabled-bg-color: #DDD;\n",
              "  }\n",
              "\n",
              "  [theme=dark] .colab-df-quickchart {\n",
              "      --bg-color: #3B4455;\n",
              "      --fill-color: #D2E3FC;\n",
              "      --hover-bg-color: #434B5C;\n",
              "      --hover-fill-color: #FFFFFF;\n",
              "      --disabled-bg-color: #3B4455;\n",
              "      --disabled-fill-color: #666;\n",
              "  }\n",
              "\n",
              "  .colab-df-quickchart {\n",
              "    background-color: var(--bg-color);\n",
              "    border: none;\n",
              "    border-radius: 50%;\n",
              "    cursor: pointer;\n",
              "    display: none;\n",
              "    fill: var(--fill-color);\n",
              "    height: 32px;\n",
              "    padding: 0;\n",
              "    width: 32px;\n",
              "  }\n",
              "\n",
              "  .colab-df-quickchart:hover {\n",
              "    background-color: var(--hover-bg-color);\n",
              "    box-shadow: 0 1px 2px rgba(60, 64, 67, 0.3), 0 1px 3px 1px rgba(60, 64, 67, 0.15);\n",
              "    fill: var(--button-hover-fill-color);\n",
              "  }\n",
              "\n",
              "  .colab-df-quickchart-complete:disabled,\n",
              "  .colab-df-quickchart-complete:disabled:hover {\n",
              "    background-color: var(--disabled-bg-color);\n",
              "    fill: var(--disabled-fill-color);\n",
              "    box-shadow: none;\n",
              "  }\n",
              "\n",
              "  .colab-df-spinner {\n",
              "    border: 2px solid var(--fill-color);\n",
              "    border-color: transparent;\n",
              "    border-bottom-color: var(--fill-color);\n",
              "    animation:\n",
              "      spin 1s steps(1) infinite;\n",
              "  }\n",
              "\n",
              "  @keyframes spin {\n",
              "    0% {\n",
              "      border-color: transparent;\n",
              "      border-bottom-color: var(--fill-color);\n",
              "      border-left-color: var(--fill-color);\n",
              "    }\n",
              "    20% {\n",
              "      border-color: transparent;\n",
              "      border-left-color: var(--fill-color);\n",
              "      border-top-color: var(--fill-color);\n",
              "    }\n",
              "    30% {\n",
              "      border-color: transparent;\n",
              "      border-left-color: var(--fill-color);\n",
              "      border-top-color: var(--fill-color);\n",
              "      border-right-color: var(--fill-color);\n",
              "    }\n",
              "    40% {\n",
              "      border-color: transparent;\n",
              "      border-right-color: var(--fill-color);\n",
              "      border-top-color: var(--fill-color);\n",
              "    }\n",
              "    60% {\n",
              "      border-color: transparent;\n",
              "      border-right-color: var(--fill-color);\n",
              "    }\n",
              "    80% {\n",
              "      border-color: transparent;\n",
              "      border-right-color: var(--fill-color);\n",
              "      border-bottom-color: var(--fill-color);\n",
              "    }\n",
              "    90% {\n",
              "      border-color: transparent;\n",
              "      border-bottom-color: var(--fill-color);\n",
              "    }\n",
              "  }\n",
              "</style>\n",
              "\n",
              "  <script>\n",
              "    async function quickchart(key) {\n",
              "      const quickchartButtonEl =\n",
              "        document.querySelector('#' + key + ' button');\n",
              "      quickchartButtonEl.disabled = true;  // To prevent multiple clicks.\n",
              "      quickchartButtonEl.classList.add('colab-df-spinner');\n",
              "      try {\n",
              "        const charts = await google.colab.kernel.invokeFunction(\n",
              "            'suggestCharts', [key], {});\n",
              "      } catch (error) {\n",
              "        console.error('Error during call to suggestCharts:', error);\n",
              "      }\n",
              "      quickchartButtonEl.classList.remove('colab-df-spinner');\n",
              "      quickchartButtonEl.classList.add('colab-df-quickchart-complete');\n",
              "    }\n",
              "    (() => {\n",
              "      let quickchartButtonEl =\n",
              "        document.querySelector('#df-2032efa5-35df-4591-bfc6-4a073bae13ff button');\n",
              "      quickchartButtonEl.style.display =\n",
              "        google.colab.kernel.accessAllowed ? 'block' : 'none';\n",
              "    })();\n",
              "  </script>\n",
              "</div>\n",
              "\n",
              "    </div>\n",
              "  </div>\n"
            ],
            "application/vnd.google.colaboratory.intrinsic+json": {
              "type": "dataframe",
              "variable_name": "df"
            }
          },
          "metadata": {},
          "execution_count": 22
        }
      ]
    },
    {
      "cell_type": "markdown",
      "source": [
        "**Supprimer les colonnes contenant les 0**"
      ],
      "metadata": {
        "id": "xAPLXxDm1zXj"
      }
    },
    {
      "cell_type": "code",
      "source": [
        "df = df.loc[:, (df != 0).any(axis=0)]  # Supprime les colonnes qui ne contiennent que des 0\n",
        "df = df.loc[(df != 0).any(axis=1), :]  # Supprime les lignes qui ne contiennent que des 0\n"
      ],
      "metadata": {
        "id": "DC0W1AEc1m-l"
      },
      "execution_count": 28,
      "outputs": []
    },
    {
      "cell_type": "markdown",
      "source": [
        "Standarisation"
      ],
      "metadata": {
        "id": "_WG7dKKT5hxC"
      }
    },
    {
      "cell_type": "code",
      "source": [
        "from sklearn.preprocessing import StandardScaler\n",
        "\n",
        "# Séparer les caractéristiques et la cible\n",
        "X = df.drop(['Pass/Fail', 'Phase'], axis=1)  # Suppression de 'Pass/Fail' et 'Phase' des caractéristiques\n",
        "y = df['Pass/Fail']  # La cible\n",
        "\n",
        "# Appliquer la standardisation sur les caractéristiques uniquement\n",
        "scaler = StandardScaler()\n",
        "X_scaled = scaler.fit_transform(X)\n",
        "\n",
        "# Recréer un DataFrame avec les données standardisées\n",
        "df_scaled = pd.DataFrame(X_scaled, columns=X.columns)\n",
        "\n",
        "# Ajouter la colonne 'Phase' et 'Pass/Fail' au DataFrame standardisé\n",
        "df_scaled['Phase'] = df['Phase']  # Ajouter 'Phase' intacte\n",
        "df_scaled['Pass/Fail'] = y  # Ajouter 'Pass/Fail' intacte\n",
        "\n",
        "# Afficher les premières lignes du dataframe standardisé\n",
        "print(df_scaled.head())\n"
      ],
      "metadata": {
        "colab": {
          "base_uri": "https://localhost:8080/"
        },
        "id": "i_lgU7GS5kq-",
        "outputId": "0a541ca8-1e88-4e70-e628-942c5553840d"
      },
      "execution_count": 40,
      "outputs": [
        {
          "output_type": "stream",
          "name": "stdout",
          "text": [
            "          0         1         2         3         4    5         6         7  \\\n",
            "0  0.224463  0.849523 -0.436430  0.035804 -0.050121  0.0 -0.564354  0.265894   \n",
            "1  1.107287 -0.383106  1.016977  0.155282 -0.059585  0.0  0.197639  0.321868   \n",
            "2 -1.114000  0.798901 -0.481447  0.688278 -0.047447  0.0 -0.906768  0.254699   \n",
            "3 -0.350156 -0.199072 -0.051705 -1.104376 -0.050831  0.0  0.502662 -0.013974   \n",
            "4  0.242296  0.087328  1.117227 -0.156616 -0.047033  0.0 -0.115954  0.187531   \n",
            "\n",
            "          8         9  ...       582        583        584        585  \\\n",
            "0  0.509848  1.128455  ...  0.118679  -0.204833  -0.093165  -0.197057   \n",
            "1  0.457021  0.022620  ...  0.530183   0.406734   0.444748   0.385113   \n",
            "2 -0.260885  0.327222  ... -1.262799   0.022320   0.014418   0.029888   \n",
            "3  0.343240 -0.765369  ... -0.322218  -0.292200  -0.362121  -0.283360   \n",
            "4  0.545066 -0.149545  ... -5.906917  26.867221  27.071429  26.913337   \n",
            "\n",
            "        586       587       588       589  Phase  Pass/Fail  \n",
            "0 -0.077554 -0.190165 -0.238334 -0.295753      1         -1  \n",
            "1 -0.960123  0.411970  0.250272  1.156846      3         -1  \n",
            "2  2.991195  3.627143  3.321511 -0.178955      4          1  \n",
            "3 -0.101845 -0.178804 -0.308135 -0.275049      5         -1  \n",
            "4 -0.101845 -0.178804 -0.308135 -0.275049      2         -1  \n",
            "\n",
            "[5 rows x 480 columns]\n"
          ]
        }
      ]
    },
    {
      "cell_type": "markdown",
      "source": [
        "**Matrice de correlation**"
      ],
      "metadata": {
        "id": "Vmzgivih6n-V"
      }
    },
    {
      "cell_type": "code",
      "source": [
        "import pandas as pd\n",
        "import numpy as np\n",
        "import seaborn as sns\n",
        "import matplotlib.pyplot as plt\n",
        "\n",
        "# Charger les données (Assurez-vous que df contient uniquement des variables numériques)\n",
        "df_numeric = df.select_dtypes(include=[np.number])\n",
        "\n",
        "# Calculer la matrice de corrélation\n",
        "correlation_matrix = df_numeric.corr()\n",
        "\n",
        "# Tracer un heatmap\n",
        "plt.figure(figsize=(12, 8))\n",
        "sns.heatmap(correlation_matrix, annot=True, fmt=\".2f\", cmap=\"coolwarm\", linewidths=0.5)\n",
        "plt.title(\"Matrice de Corrélation\")\n",
        "plt.show()\n",
        "\n",
        "# Version améliorée pour trouver les variables à supprimer\n",
        "threshold = 0.85\n",
        "already_in = set()\n",
        "to_drop = set()\n",
        "\n",
        "for i in range(len(correlation_matrix.columns)):\n",
        "    for j in range(i):\n",
        "        if abs(correlation_matrix.iloc[i, j]) > threshold:\n",
        "            var1 = correlation_matrix.columns[i]\n",
        "            var2 = correlation_matrix.columns[j]\n",
        "            if var1 not in already_in and var2 not in already_in:\n",
        "                # Décidez quelle variable garder (ici simplement var1)\n",
        "                to_drop.add(var2)\n",
        "                already_in.add(var1)\n",
        "                already_in.add(var2)\n",
        "\n",
        "# Supprimer les variables redondantes\n",
        "df_reduced = df_numeric.drop(columns=to_drop)\n",
        "print(\"Variables supprimées pour réduire la dimension :\", to_drop)\n",
        "print(f\"Nombre de variables originales : {df_numeric.shape[1]}\")\n",
        "print(f\"Nombre de variables après réduction : {df_reduced.shape[1]}\")"
      ],
      "metadata": {
        "colab": {
          "base_uri": "https://localhost:8080/",
          "height": 782
        },
        "id": "i29kJPfE6qci",
        "outputId": "2200a328-6e69-41e1-c3c0-82f119659082"
      },
      "execution_count": 41,
      "outputs": [
        {
          "output_type": "display_data",
          "data": {
            "text/plain": [
              "<Figure size 1200x800 with 2 Axes>"
            ],
            "image/png": "[encoded data removed]"
          },
          "metadata": {}
        },
        {
          "output_type": "stream",
          "name": "stdout",
          "text": [
            "Variables supprimées pour réduire la dimension : {'307', '199', '142', '122', '175', '46', '551', '219', '289', '201', '223', '166', '29', '341', '182', '583', '161', '269', '559', '572', '170', '159', '4', '224', '253', '254', '469', '16', '195', '204', '347', '121', '251', '587', '227', '267', '92', '228', '109', '145', '205', '434', '549', '208', '430', '345', '177', '185', '139', '172', '98', '143', '573', '135', '158', '53', '184', '245', '222', '443', '198', '220', '66', '420', '183', '146', '181', '299', '114', '162', '211', '99', '218', '202', '163', '176', '197', '43', '117', '238', '151', '34', '247', '214', '144', '210', '576', '157', '137', '74', '203', '333', '213', '169', '25', '187', '225', '150', '180', '136', '579', '167', '148', '248', '153', '221', '475', '282', '188', '212', '93', '275', '565', '138', '215', '171', '156', '390', '155', '250', '255', '268', '382', '564', '67', '168', '543', '94', '160', '217', '550', '154', '384', '216', '173', '165', '209', '239', '517'}\n",
            "Nombre de variables originales : 480\n",
            "Nombre de variables après réduction : 341\n"
          ]
        }
      ]
    },
    {
      "cell_type": "markdown",
      "source": [
        "**Traitement des valeurs aberrantes **"
      ],
      "metadata": {
        "id": "Kw7ofBAwAVcn"
      }
    },
    {
      "cell_type": "code",
      "source": [
        "import seaborn as sns\n",
        "import matplotlib.pyplot as plt\n",
        "\n",
        "# Tracer un boxplot pour chaque colonne du dataset\n",
        "plt.figure(figsize=(20, 10))\n",
        "sns.boxplot(data=df)  # Utiliser l'ensemble des colonnes de df pour générer les boxplots\n",
        "plt.title(\"Boxplot de la distribution des données pour toutes les colonnes\")\n",
        "plt.xticks(rotation=90)  # Rotation des étiquettes des axes x pour une meilleure lisibilité\n",
        "plt.show()"
      ],
      "metadata": {
        "colab": {
          "base_uri": "https://localhost:8080/",
          "height": 578
        },
        "id": "oSoCpsE0AAJA",
        "outputId": "bde178a0-5fce-475b-d10a-e9dcbff0396c"
      },
      "execution_count": 43,
      "outputs": [
        {
          "output_type": "display_data",
          "data": {
            "text/plain": [
              "<Figure size 2000x1000 with 1 Axes>"
            ],
            "image/png": "[encoded data removed]"
          },
          "metadata": {}
        }
      ]
    },
    {
      "cell_type": "code",
      "source": [
        "# Calculer l'IQR pour chaque colonne\n",
        "Q1 = df.quantile(0.25)\n",
        "Q3 = df.quantile(0.75)\n",
        "IQR = Q3 - Q1\n",
        "\n",
        "# Filtrer les valeurs aberrantes\n",
        "df_filtered = df[~((df < (Q1 - 1.5 * IQR)) | (df > (Q3 + 1.5 * IQR))).any(axis=1)]\n",
        "\n",
        "# Afficher les dimensions avant et après la suppression\n",
        "print(f\"Dimensions avant la suppression : {df.shape}\")\n",
        "print(f\"Dimensions après la suppression : {df_filtered.shape}\")\n"
      ],
      "metadata": {
        "colab": {
          "base_uri": "https://localhost:8080/"
        },
        "id": "TfrWEYgcAcWW",
        "outputId": "71eaf1f1-d7d1-4015-f694-f6d429ac4b4c"
      },
      "execution_count": 44,
      "outputs": [
        {
          "output_type": "stream",
          "name": "stdout",
          "text": [
            "Dimensions avant la suppression : (1567, 480)\n",
            "Dimensions après la suppression : (0, 480)\n"
          ]
        }
      ]
    },
    {
      "cell_type": "code",
      "source": [
        "from sklearn.ensemble import IsolationForest\n",
        "\n",
        "# Appliquer Isolation Forest\n",
        "iso_forest = IsolationForest(contamination=0.05)  # contamination = proportion estimée des valeurs aberrantes\n",
        "outliers = iso_forest.fit_predict(df)\n",
        "\n",
        "# Convertir les prédictions en boolean\n",
        "outliers = [True if x == -1 else False for x in outliers]\n",
        "\n",
        "# Créer un nouveau dataframe sans les valeurs aberrantes\n",
        "df_no_outliers = df[~np.array(outliers)]\n",
        "\n",
        "# Afficher le dataset après la détection et la suppression\n",
        "print(\"Dataset après détection et suppression des valeurs aberrantes avec Isolation Forest.\")\n"
      ],
      "metadata": {
        "colab": {
          "base_uri": "https://localhost:8080/"
        },
        "id": "dvo_pMcjA493",
        "outputId": "d7b531ca-85e5-4fd1-9150-beb94848a734"
      },
      "execution_count": 45,
      "outputs": [
        {
          "output_type": "stream",
          "name": "stdout",
          "text": [
            "Dataset après détection et suppression des valeurs aberrantes avec Isolation Forest.\n"
          ]
        }
      ]
    },
    {
      "cell_type": "markdown",
      "source": [
        "Visulaisation des donnees"
      ],
      "metadata": {
        "id": "c7iEN5VDBc6N"
      }
    },
    {
      "cell_type": "code",
      "source": [
        "import seaborn as sns\n",
        "import matplotlib.pyplot as plt\n",
        "\n",
        "# Choisir un échantillon aléatoire de 10% des données\n",
        "sample_df = df_reduced.sample(frac=0.1, random_state=42)  # 'frac' définit la fraction des données à échantillonner\n",
        "\n",
        "# Visualisation d'un échantillon des données (ici les 5 premières lignes)\n",
        "print(\"Échantillon des données :\")\n",
        "print(sample_df.head())\n",
        "\n",
        "# Visualiser quelques distributions pour les colonnes numériques dans l'échantillon\n",
        "numerical_columns = sample_df.select_dtypes(include='number').columns\n",
        "\n",
        "# Créer un graphique pour chaque variable numérique de l'échantillon\n",
        "plt.figure(figsize=(15, 8))\n",
        "for i, feature in enumerate(numerical_columns):\n",
        "    plt.subplot(2, 3, i + 1)  # Ajuster le nombre de lignes et de colonnes en fonction du nombre de graphiques\n",
        "    sns.histplot(sample_df[feature], kde=True)\n",
        "    plt.title(f'Distribution de {feature}')\n",
        "\n",
        "plt.tight_layout()\n",
        "plt.show()\n"
      ],
      "metadata": {
        "colab": {
          "base_uri": "https://localhost:8080/",
          "height": 1000
        },
        "id": "UbUSjPu9EnLh",
        "outputId": "32c07adc-5370-41b0-943e-97750e252ae0"
      },
      "execution_count": 52,
      "outputs": [
        {
          "output_type": "stream",
          "name": "stdout",
          "text": [
            "Échantillon des données :\n",
            "           0        1          2          3      5         6       7       8  \\\n",
            "548  2929.60  2564.91  2216.4778  1242.2350  100.0  105.1111  0.1233  1.5190   \n",
            "664  2979.45  2546.78  2217.8111  1744.7771  100.0  100.1789  0.1218  1.4786   \n",
            "730  3136.34  2442.45  2250.7445   996.4071  100.0  106.2956  0.1172  1.4285   \n",
            "405  3052.97  2501.63  2218.0555  1517.4371  100.0  105.8133  0.1206  1.4732   \n",
            "175  3071.09  2521.23  2248.4222  1418.5634  100.0  102.6444  0.1212  1.6138   \n",
            "\n",
            "          9      10  ...     580      581     582     584     585     586  \\\n",
            "548 -0.0053 -0.0124  ...  0.0049  41.3226  0.4952  0.0031  2.4192  0.0354   \n",
            "664 -0.0179  0.0085  ...  0.0047  72.2889  0.5040  0.0026  2.2880  0.0263   \n",
            "730 -0.0222 -0.0006  ...  0.0030  25.1494  0.5022  0.0040  3.4516  0.0335   \n",
            "405 -0.0063 -0.0148  ...  0.0047  72.2889  0.5010  0.0028  2.1487  0.0061   \n",
            "175  0.0146  0.0080  ...  0.0047  72.2889  0.4974  0.0035  2.6058  0.0254   \n",
            "\n",
            "        588       589  Phase  Pass/Fail  \n",
            "548  0.0049   41.3226      5         -1  \n",
            "664  0.0033   44.3686      0         -1  \n",
            "730  0.0030   25.1494      4         -1  \n",
            "405  0.0046  233.2441      0         -1  \n",
            "175  0.0051   62.9443      2         -1  \n",
            "\n",
            "[5 rows x 341 columns]\n"
          ]
        },
        {
          "output_type": "error",
          "ename": "ValueError",
          "evalue": "num must be an integer with 1 <= num <= 6, not 7",
          "traceback": [
            "\u001b[0;31m---------------------------------------------------------------------------\u001b[0m",
            "\u001b[0;31mValueError\u001b[0m                                Traceback (most recent call last)",
            "\u001b[0;32m<ipython-input-52-d5f6fd08559a>\u001b[0m in \u001b[0;36m<cell line: 0>\u001b[0;34m()\u001b[0m\n\u001b[1;32m     15\u001b[0m \u001b[0mplt\u001b[0m\u001b[0;34m.\u001b[0m\u001b[0mfigure\u001b[0m\u001b[0;34m(\u001b[0m\u001b[0mfigsize\u001b[0m\u001b[0;34m=\u001b[0m\u001b[0;34m(\u001b[0m\u001b[0;36m15\u001b[0m\u001b[0;34m,\u001b[0m \u001b[0;36m8\u001b[0m\u001b[0;34m)\u001b[0m\u001b[0;34m)\u001b[0m\u001b[0;34m\u001b[0m\u001b[0;34m\u001b[0m\u001b[0m\n\u001b[1;32m     16\u001b[0m \u001b[0;32mfor\u001b[0m \u001b[0mi\u001b[0m\u001b[0;34m,\u001b[0m \u001b[0mfeature\u001b[0m \u001b[0;32min\u001b[0m \u001b[0menumerate\u001b[0m\u001b[0;34m(\u001b[0m\u001b[0mnumerical_columns\u001b[0m\u001b[0;34m)\u001b[0m\u001b[0;34m:\u001b[0m\u001b[0;34m\u001b[0m\u001b[0;34m\u001b[0m\u001b[0m\n\u001b[0;32m---> 17\u001b[0;31m     \u001b[0mplt\u001b[0m\u001b[0;34m.\u001b[0m\u001b[0msubplot\u001b[0m\u001b[0;34m(\u001b[0m\u001b[0;36m2\u001b[0m\u001b[0;34m,\u001b[0m \u001b[0;36m3\u001b[0m\u001b[0;34m,\u001b[0m \u001b[0mi\u001b[0m \u001b[0;34m+\u001b[0m \u001b[0;36m1\u001b[0m\u001b[0;34m)\u001b[0m  \u001b[0;31m# Ajuster le nombre de lignes et de colonnes en fonction du nombre de graphiques\u001b[0m\u001b[0;34m\u001b[0m\u001b[0;34m\u001b[0m\u001b[0m\n\u001b[0m\u001b[1;32m     18\u001b[0m     \u001b[0msns\u001b[0m\u001b[0;34m.\u001b[0m\u001b[0mhistplot\u001b[0m\u001b[0;34m(\u001b[0m\u001b[0msample_df\u001b[0m\u001b[0;34m[\u001b[0m\u001b[0mfeature\u001b[0m\u001b[0;34m]\u001b[0m\u001b[0;34m,\u001b[0m \u001b[0mkde\u001b[0m\u001b[0;34m=\u001b[0m\u001b[0;32mTrue\u001b[0m\u001b[0;34m)\u001b[0m\u001b[0;34m\u001b[0m\u001b[0;34m\u001b[0m\u001b[0m\n\u001b[1;32m     19\u001b[0m     \u001b[0mplt\u001b[0m\u001b[0;34m.\u001b[0m\u001b[0mtitle\u001b[0m\u001b[0;34m(\u001b[0m\u001b[0;34mf'Distribution de {feature}'\u001b[0m\u001b[0;34m)\u001b[0m\u001b[0;34m\u001b[0m\u001b[0;34m\u001b[0m\u001b[0m\n",
            "\u001b[0;32m/usr/local/lib/python3.11/dist-packages/matplotlib/pyplot.py\u001b[0m in \u001b[0;36msubplot\u001b[0;34m(*args, **kwargs)\u001b[0m\n\u001b[1;32m   1548\u001b[0m \u001b[0;34m\u001b[0m\u001b[0m\n\u001b[1;32m   1549\u001b[0m     \u001b[0;31m# First, search for an existing subplot with a matching spec.\u001b[0m\u001b[0;34m\u001b[0m\u001b[0;34m\u001b[0m\u001b[0m\n\u001b[0;32m-> 1550\u001b[0;31m     \u001b[0mkey\u001b[0m \u001b[0;34m=\u001b[0m \u001b[0mSubplotSpec\u001b[0m\u001b[0;34m.\u001b[0m\u001b[0m_from_subplot_args\u001b[0m\u001b[0;34m(\u001b[0m\u001b[0mfig\u001b[0m\u001b[0;34m,\u001b[0m \u001b[0margs\u001b[0m\u001b[0;34m)\u001b[0m\u001b[0;34m\u001b[0m\u001b[0;34m\u001b[0m\u001b[0m\n\u001b[0m\u001b[1;32m   1551\u001b[0m \u001b[0;34m\u001b[0m\u001b[0m\n\u001b[1;32m   1552\u001b[0m     \u001b[0;32mfor\u001b[0m \u001b[0max\u001b[0m \u001b[0;32min\u001b[0m \u001b[0mfig\u001b[0m\u001b[0;34m.\u001b[0m\u001b[0maxes\u001b[0m\u001b[0;34m:\u001b[0m\u001b[0;34m\u001b[0m\u001b[0;34m\u001b[0m\u001b[0m\n",
            "\u001b[0;32m/usr/local/lib/python3.11/dist-packages/matplotlib/gridspec.py\u001b[0m in \u001b[0;36m_from_subplot_args\u001b[0;34m(figure, args)\u001b[0m\n\u001b[1;32m    587\u001b[0m         \u001b[0;32melse\u001b[0m\u001b[0;34m:\u001b[0m\u001b[0;34m\u001b[0m\u001b[0;34m\u001b[0m\u001b[0m\n\u001b[1;32m    588\u001b[0m             \u001b[0;32mif\u001b[0m \u001b[0;32mnot\u001b[0m \u001b[0misinstance\u001b[0m\u001b[0;34m(\u001b[0m\u001b[0mnum\u001b[0m\u001b[0;34m,\u001b[0m \u001b[0mIntegral\u001b[0m\u001b[0;34m)\u001b[0m \u001b[0;32mor\u001b[0m \u001b[0mnum\u001b[0m \u001b[0;34m<\u001b[0m \u001b[0;36m1\u001b[0m \u001b[0;32mor\u001b[0m \u001b[0mnum\u001b[0m \u001b[0;34m>\u001b[0m \u001b[0mrows\u001b[0m\u001b[0;34m*\u001b[0m\u001b[0mcols\u001b[0m\u001b[0;34m:\u001b[0m\u001b[0;34m\u001b[0m\u001b[0;34m\u001b[0m\u001b[0m\n\u001b[0;32m--> 589\u001b[0;31m                 raise ValueError(\n\u001b[0m\u001b[1;32m    590\u001b[0m                     \u001b[0;34mf\"num must be an integer with 1 <= num <= {rows*cols}, \"\u001b[0m\u001b[0;34m\u001b[0m\u001b[0;34m\u001b[0m\u001b[0m\n\u001b[1;32m    591\u001b[0m                     \u001b[0;34mf\"not {num!r}\"\u001b[0m\u001b[0;34m\u001b[0m\u001b[0;34m\u001b[0m\u001b[0m\n",
            "\u001b[0;31mValueError\u001b[0m: num must be an integer with 1 <= num <= 6, not 7"
          ]
        },
        {
          "output_type": "display_data",
          "data": {
            "text/plain": [
              "<Figure size 1500x800 with 6 Axes>"
            ],
            "image/png": "[encoded data removed]"
          },
          "metadata": {}
        }
      ]
    },
    {
      "cell_type": "markdown",
      "source": [
        "**Features and Target**"
      ],
      "metadata": {
        "id": "hwaNZsE1FI_1"
      }
    },
    {
      "cell_type": "code",
      "source": [
        "from sklearn.model_selection import train_test_split\n",
        "\n",
        "# Séparer les features (X) et la cible (y)\n",
        "X = df_reduced.drop(columns=['Pass/Fail', 'Phase'])  # On suppose que 'Pass/Fail' est la colonne cible et 'Phase' est non pertinente\n",
        "y = df_reduced['Pass/Fail']  # C'est la colonne cible (target)\n",
        "\n",
        "# Diviser les données en ensembles d'entraînement (80%) et de test (20%)\n",
        "X_train, X_test, y_train, y_test = train_test_split(X, y, test_size=0.2, random_state=42)\n",
        "\n",
        "# Vérification des tailles des ensembles\n",
        "print(\"Taille de X_train :\", X_train.shape)\n",
        "print(\"Taille de X_test :\", X_test.shape)\n",
        "print(\"Taille de y_train :\", y_train.shape)\n",
        "print(\"Taille de y_test :\", y_test.shape)\n"
      ],
      "metadata": {
        "colab": {
          "base_uri": "https://localhost:8080/"
        },
        "id": "0ysQWf8mFLpX",
        "outputId": "fb3b112e-5c62-4e9e-a699-7fefa006e9a1"
      },
      "execution_count": 54,
      "outputs": [
        {
          "output_type": "stream",
          "name": "stdout",
          "text": [
            "Taille de X_train : (1253, 339)\n",
            "Taille de X_test : (314, 339)\n",
            "Taille de y_train : (1253,)\n",
            "Taille de y_test : (314,)\n"
          ]
        }
      ]
    },
    {
      "cell_type": "markdown",
      "source": [
        "**Apprentissage et construction du modèle**"
      ],
      "metadata": {
        "id": "uWvWj3yVGGvg"
      }
    },
    {
      "cell_type": "markdown",
      "source": [
        "Arbre de Décision"
      ],
      "metadata": {
        "id": "Sp7VKW75Ggd3"
      }
    },
    {
      "cell_type": "code",
      "source": [
        "from sklearn.tree import DecisionTreeClassifier\n",
        "from sklearn.metrics import confusion_matrix, accuracy_score, precision_score, recall_score, f1_score, roc_curve, auc\n",
        "import matplotlib.pyplot as plt\n",
        "import seaborn as sns\n",
        "from sklearn.metrics import RocCurveDisplay\n",
        "\n",
        "# Initialisation du modèle\n",
        "dt_model = DecisionTreeClassifier(random_state=42)\n",
        "\n",
        "# Entraînement du modèle\n",
        "dt_model.fit(X_train, y_train)\n",
        "\n",
        "# Évaluation du modèle\n",
        "def evaluate_model(model, X_test, y_test, model_name):\n",
        "    # Prédictions\n",
        "    y_pred = model.predict(X_test)\n",
        "\n",
        "    # Calcul des métriques\n",
        "    accuracy = accuracy_score(y_test, y_pred)\n",
        "    precision = precision_score(y_test, y_pred)\n",
        "    recall = recall_score(y_test, y_pred)\n",
        "    f1 = f1_score(y_test, y_pred)\n",
        "\n",
        "    # Matrice de confusion\n",
        "    conf_matrix = confusion_matrix(y_test, y_pred)\n",
        "\n",
        "    # Calcul de la courbe ROC et AUC\n",
        "    fpr, tpr, thresholds = roc_curve(y_test, model.predict_proba(X_test)[:, 1])\n",
        "    auc_score = auc(fpr, tpr)\n",
        "\n",
        "    # Affichage des résultats\n",
        "    print(f\"Évaluation du modèle {model_name}:\")\n",
        "    print(f\"  - Accuracy: {accuracy:.4f}\")\n",
        "    print(f\"  - Précision: {precision:.4f}\")\n",
        "    print(f\"  - Rappel: {recall:.4f}\")\n",
        "    print(f\"  - F1 Score: {f1:.4f}\")\n",
        "\n",
        "    # Affichage de la matrice de confusion\n",
        "    plt.figure(figsize=(6, 4))\n",
        "    sns.heatmap(conf_matrix, annot=True, fmt='d', cmap='Blues', xticklabels=['Non Défectueux', 'Défectueux'], yticklabels=['Non Défectueux', 'Défectueux'])\n",
        "    plt.title(f'Matrice de Confusion - {model_name}')\n",
        "    plt.xlabel('Prédictions')\n",
        "    plt.ylabel('Véritables')\n",
        "    plt.show()\n",
        "\n",
        "    # Affichage de la courbe ROC\n",
        "    plt.figure(figsize=(6, 6))\n",
        "    RocCurveDisplay(fpr=fpr, tpr=tpr, roc_auc=auc_score).plot()\n",
        "    plt.title(f'Courbe ROC - {model_name}')\n",
        "    plt.show()\n",
        "\n",
        "# Évaluation de l'Arbre de Décision\n",
        "evaluate_model(dt_model, X_test, y_test, 'Arbre de Décision')\n",
        "\n"
      ],
      "metadata": {
        "colab": {
          "base_uri": "https://localhost:8080/",
          "height": 967
        },
        "id": "YMFxg8bjGIEa",
        "outputId": "942dbd06-622d-4dc9-de39-6b7893f8f45d"
      },
      "execution_count": 56,
      "outputs": [
        {
          "output_type": "stream",
          "name": "stdout",
          "text": [
            "Évaluation du modèle Arbre de Décision:\n",
            "  - Accuracy: 0.8503\n",
            "  - Précision: 0.1714\n",
            "  - Rappel: 0.2500\n",
            "  - F1 Score: 0.2034\n"
          ]
        },
        {
          "output_type": "display_data",
          "data": {
            "text/plain": [
              "<Figure size 600x400 with 2 Axes>"
            ],
            "image/png": "[encoded data removed]"
          },
          "metadata": {}
        },
        {
          "output_type": "display_data",
          "data": {
            "text/plain": [
              "<Figure size 600x600 with 0 Axes>"
            ]
          },
          "metadata": {}
        },
        {
          "output_type": "display_data",
          "data": {
            "text/plain": [
              "<Figure size 640x480 with 1 Axes>"
            ],
            "image/png": "[encoded data removed]"
          },
          "metadata": {}
        }
      ]
    },
    {
      "cell_type": "markdown",
      "source": [
        "Forêt Aléatoire (Random Forest)"
      ],
      "metadata": {
        "id": "_ajwkeMtHaEH"
      }
    },
    {
      "cell_type": "code",
      "source": [
        "from sklearn.ensemble import RandomForestClassifier\n",
        "\n",
        "# Initialisation du modèle\n",
        "rf_model = RandomForestClassifier(random_state=42)\n",
        "\n",
        "# Entraînement du modèle\n",
        "rf_model.fit(X_train, y_train)\n",
        "\n",
        "# Évaluation de la Forêt Aléatoire\n",
        "evaluate_model(rf_model, X_test, y_test, 'Forêt Aléatoire')\n"
      ],
      "metadata": {
        "colab": {
          "base_uri": "https://localhost:8080/",
          "height": 1000
        },
        "id": "OJvlwp7WHcgf",
        "outputId": "785ea9ea-b592-4196-beda-e34a78794429"
      },
      "execution_count": 57,
      "outputs": [
        {
          "output_type": "stream",
          "name": "stdout",
          "text": [
            "Évaluation du modèle Forêt Aléatoire:\n",
            "  - Accuracy: 0.9236\n",
            "  - Précision: 0.0000\n",
            "  - Rappel: 0.0000\n",
            "  - F1 Score: 0.0000\n"
          ]
        },
        {
          "output_type": "stream",
          "name": "stderr",
          "text": [
            "/usr/local/lib/python3.11/dist-packages/sklearn/metrics/_classification.py:1565: UndefinedMetricWarning: Precision is ill-defined and being set to 0.0 due to no predicted samples. Use `zero_division` parameter to control this behavior.\n",
            "  _warn_prf(average, modifier, f\"{metric.capitalize()} is\", len(result))\n"
          ]
        },
        {
          "output_type": "display_data",
          "data": {
            "text/plain": [
              "<Figure size 600x400 with 2 Axes>"
            ],
            "image/png": "[encoded data removed]"
          },
          "metadata": {}
        },
        {
          "output_type": "display_data",
          "data": {
            "text/plain": [
              "<Figure size 600x600 with 0 Axes>"
            ]
          },
          "metadata": {}
        },
        {
          "output_type": "display_data",
          "data": {
            "text/plain": [
              "<Figure size 640x480 with 1 Axes>"
            ],
            "image/png": "[encoded data removed]"
          },
          "metadata": {}
        }
      ]
    },
    {
      "cell_type": "markdown",
      "source": [
        "AdaBoost"
      ],
      "metadata": {
        "id": "94eO26ZhHl8Z"
      }
    },
    {
      "cell_type": "code",
      "source": [
        "from sklearn.ensemble import AdaBoostClassifier\n",
        "\n",
        "# Initialisation du modèle\n",
        "ada_model = AdaBoostClassifier(random_state=42)\n",
        "\n",
        "# Entraînement du modèle\n",
        "ada_model.fit(X_train, y_train)\n",
        "\n",
        "# Évaluation de AdaBoost\n",
        "evaluate_model(ada_model, X_test, y_test, 'AdaBoost')\n"
      ],
      "metadata": {
        "colab": {
          "base_uri": "https://localhost:8080/",
          "height": 967
        },
        "id": "Yg2kenecHpEo",
        "outputId": "47bb9ab7-ca32-4a92-bf77-cdf7f4a27e87"
      },
      "execution_count": 58,
      "outputs": [
        {
          "output_type": "stream",
          "name": "stdout",
          "text": [
            "Évaluation du modèle AdaBoost:\n",
            "  - Accuracy: 0.9140\n",
            "  - Précision: 0.0000\n",
            "  - Rappel: 0.0000\n",
            "  - F1 Score: 0.0000\n"
          ]
        },
        {
          "output_type": "display_data",
          "data": {
            "text/plain": [
              "<Figure size 600x400 with 2 Axes>"
            ],
            "image/png": "[encoded data removed]"
          },
          "metadata": {}
        },
        {
          "output_type": "display_data",
          "data": {
            "text/plain": [
              "<Figure size 600x600 with 0 Axes>"
            ]
          },
          "metadata": {}
        },
        {
          "output_type": "display_data",
          "data": {
            "text/plain": [
              "<Figure size 640x480 with 1 Axes>"
            ],
            "image/png": "[encoded data removed]"
          },
          "metadata": {}
        }
      ]
    },
    {
      "cell_type": "markdown",
      "source": [
        "Réseaux de Neurones (MLP - Multi-layer Perceptron)"
      ],
      "metadata": {
        "id": "B6Xmb-N2Hw2T"
      }
    },
    {
      "cell_type": "code",
      "source": [
        "from sklearn.neural_network import MLPClassifier\n",
        "\n",
        "# Initialisation du modèle\n",
        "nn_model = MLPClassifier(random_state=42, max_iter=1000)\n",
        "\n",
        "# Entraînement du modèle\n",
        "nn_model.fit(X_train, y_train)\n",
        "\n",
        "# Évaluation des Réseaux de Neurones\n",
        "evaluate_model(nn_model, X_test, y_test, 'Réseaux de Neurones')\n"
      ],
      "metadata": {
        "colab": {
          "base_uri": "https://localhost:8080/",
          "height": 967
        },
        "id": "s15D0om3HzJ6",
        "outputId": "9bf1ed07-83a3-458e-93f9-cedcdb341245"
      },
      "execution_count": 59,
      "outputs": [
        {
          "output_type": "stream",
          "name": "stdout",
          "text": [
            "Évaluation du modèle Réseaux de Neurones:\n",
            "  - Accuracy: 0.8917\n",
            "  - Précision: 0.1875\n",
            "  - Rappel: 0.1250\n",
            "  - F1 Score: 0.1500\n"
          ]
        },
        {
          "output_type": "display_data",
          "data": {
            "text/plain": [
              "<Figure size 600x400 with 2 Axes>"
            ],
            "image/png": "[encoded data removed]"
          },
          "metadata": {}
        },
        {
          "output_type": "display_data",
          "data": {
            "text/plain": [
              "<Figure size 600x600 with 0 Axes>"
            ]
          },
          "metadata": {}
        },
        {
          "output_type": "display_data",
          "data": {
            "text/plain": [
              "<Figure size 640x480 with 1 Axes>"
            ],
            "image/png": "[encoded data removed]"
          },
          "metadata": {}
        }
      ]
    },
    {
      "cell_type": "code",
      "source": [
        "from sklearn.model_selection import train_test_split\n",
        "\n",
        "# Diviser les données en caractéristiques (X) et cible (y)\n",
        "X = df_reduced.drop('Pass/Fail', axis=1)\n",
        "y = df_reduced['Pass/Fail']\n",
        "\n",
        "# Diviser les données en ensemble d'entraînement (80%) et de test (20%)\n",
        "X_train, X_test, y_train, y_test = train_test_split(X, y, test_size=0.2, random_state=42)\n",
        "\n",
        "# Maintenant, vous pouvez entraîner et évaluer vos modèles sur X_train, y_train et tester sur X_test, y_test.\n"
      ],
      "metadata": {
        "id": "QKqInIbHKpv5"
      },
      "execution_count": 60,
      "outputs": []
    },
    {
      "cell_type": "code",
      "source": [
        "from sklearn.model_selection import cross_val_score\n",
        "from sklearn.ensemble import RandomForestClassifier  # Exemple de modèle\n",
        "from sklearn.metrics import make_scorer, accuracy_score\n",
        "\n",
        "# Initialiser le modèle\n",
        "model = RandomForestClassifier(random_state=42)\n",
        "\n",
        "# Effectuer la validation croisée avec 5 plis\n",
        "scores = cross_val_score(model, X, y, cv=5, scoring='accuracy')\n",
        "\n",
        "# Afficher les résultats de la validation croisée\n",
        "print(f\"Scores de validation croisée (accuracy): {scores}\")\n",
        "print(f\"Accuracy moyenne de la validation croisée: {scores.mean():.4f}\")\n"
      ],
      "metadata": {
        "colab": {
          "base_uri": "https://localhost:8080/"
        },
        "id": "irYUAXygKs-e",
        "outputId": "eb1fff7e-d644-4cc2-907a-c8bf1790705b"
      },
      "execution_count": 61,
      "outputs": [
        {
          "output_type": "stream",
          "name": "stdout",
          "text": [
            "Scores de validation croisée (accuracy): [0.89808917 0.92993631 0.93610224 0.93290735 0.92971246]\n",
            "Accuracy moyenne de la validation croisée: 0.9253\n"
          ]
        }
      ]
    },
    {
      "cell_type": "markdown",
      "source": [
        "**Optimisation des hyperparamètres**"
      ],
      "metadata": {
        "id": "SPwhW4JMNh5c"
      }
    },
    {
      "cell_type": "markdown",
      "source": [
        "Exemple avec GridSearchCV : RandomForest Classifier"
      ],
      "metadata": {
        "id": "Qb17Y3txNlW6"
      }
    },
    {
      "cell_type": "code",
      "source": [
        "from sklearn.model_selection import GridSearchCV\n",
        "from sklearn.ensemble import RandomForestClassifier\n",
        "\n",
        "# Définir les hyperparamètres à tester\n",
        "param_grid = {\n",
        "    'n_estimators': [50, 100, 200],\n",
        "    'max_depth': [None, 10, 20, 30],\n",
        "    'min_samples_split': [2, 5, 10],\n",
        "    'min_samples_leaf': [1, 2, 4]\n",
        "}\n",
        "\n",
        "# Initialiser le modèle\n",
        "rf_model = RandomForestClassifier(random_state=42)\n",
        "\n",
        "# Initialiser GridSearchCV\n",
        "grid_search = GridSearchCV(estimator=rf_model, param_grid=param_grid, cv=5, scoring='accuracy', n_jobs=-1, verbose=2)\n",
        "\n",
        "# Appliquer GridSearchCV pour trouver les meilleurs paramètres\n",
        "grid_search.fit(X_train, y_train)\n",
        "\n",
        "# Afficher les meilleurs paramètres et la meilleure performance\n",
        "print(\"Meilleurs paramètres : \", grid_search.best_params_)\n",
        "print(\"Meilleure performance (accuracy) : \", grid_search.best_score_)\n"
      ],
      "metadata": {
        "colab": {
          "base_uri": "https://localhost:8080/"
        },
        "id": "sYsqcfpqNnlL",
        "outputId": "e9549024-9f85-4573-abd7-1b36d93bce62"
      },
      "execution_count": 62,
      "outputs": [
        {
          "output_type": "stream",
          "name": "stdout",
          "text": [
            "Fitting 5 folds for each of 108 candidates, totalling 540 fits\n",
            "Meilleurs paramètres :  {'max_depth': None, 'min_samples_leaf': 1, 'min_samples_split': 2, 'n_estimators': 50}\n",
            "Meilleure performance (accuracy) :  0.9361561752988047\n"
          ]
        }
      ]
    },
    {
      "cell_type": "code",
      "source": [
        "pip install imbalanced-learn\n"
      ],
      "metadata": {
        "colab": {
          "base_uri": "https://localhost:8080/"
        },
        "id": "UJwhuX2wRqGF",
        "outputId": "10d919e5-f408-42c4-ac92-930b326c1a69"
      },
      "execution_count": 63,
      "outputs": [
        {
          "output_type": "stream",
          "name": "stdout",
          "text": [
            "Requirement already satisfied: imbalanced-learn in /usr/local/lib/python3.11/dist-packages (0.13.0)\n",
            "Requirement already satisfied: numpy<3,>=1.24.3 in /usr/local/lib/python3.11/dist-packages (from imbalanced-learn) (2.0.2)\n",
            "Requirement already satisfied: scipy<2,>=1.10.1 in /usr/local/lib/python3.11/dist-packages (from imbalanced-learn) (1.14.1)\n",
            "Requirement already satisfied: scikit-learn<2,>=1.3.2 in /usr/local/lib/python3.11/dist-packages (from imbalanced-learn) (1.6.1)\n",
            "Requirement already satisfied: sklearn-compat<1,>=0.1 in /usr/local/lib/python3.11/dist-packages (from imbalanced-learn) (0.1.3)\n",
            "Requirement already satisfied: joblib<2,>=1.1.1 in /usr/local/lib/python3.11/dist-packages (from imbalanced-learn) (1.4.2)\n",
            "Requirement already satisfied: threadpoolctl<4,>=2.0.0 in /usr/local/lib/python3.11/dist-packages (from imbalanced-learn) (3.6.0)\n"
          ]
        }
      ]
    },
    {
      "cell_type": "code",
      "source": [
        "from imblearn.over_sampling import SMOTE\n",
        "from collections import Counter\n",
        "\n",
        "# Afficher la répartition des classes avant suréchantillonnage\n",
        "print(f\"Répartition des classes avant suréchantillonnage : {Counter(y_train)}\")\n",
        "\n",
        "# Appliquer SMOTE pour suréchantillonner les données\n",
        "smote = SMOTE(random_state=42)\n",
        "X_resampled, y_resampled = smote.fit_resample(X_train, y_train)\n",
        "\n",
        "# Afficher la répartition des classes après suréchantillonnage\n",
        "print(f\"Répartition des classes après suréchantillonnage : {Counter(y_resampled)}\")\n",
        "\n",
        "# Entraîner le modèle sur les données rééchantillonnées\n",
        "model = RandomForestClassifier(random_state=42)\n",
        "model.fit(X_resampled, y_resampled)\n"
      ],
      "metadata": {
        "colab": {
          "base_uri": "https://localhost:8080/",
          "height": 91
        },
        "id": "0Ezed0t_RsPD",
        "outputId": "6cce53c9-a876-4640-e38c-736b53f73e75"
      },
      "execution_count": 64,
      "outputs": [
        {
          "output_type": "stream",
          "name": "stdout",
          "text": [
            "Répartition des classes avant suréchantillonnage : Counter({-1: 1173, 1: 80})\n",
            "Répartition des classes après suréchantillonnage : Counter({-1: 1173, 1: 1173})\n"
          ]
        },
        {
          "output_type": "execute_result",
          "data": {
            "text/plain": [
              "RandomForestClassifier(random_state=42)"
            ],
            "text/html": [
              "<style>#sk-container-id-1 {\n",
              "  /* Definition of color scheme common for light and dark mode */\n",
              "  --sklearn-color-text: #000;\n",
              "  --sklearn-color-text-muted: #666;\n",
              "  --sklearn-color-line: gray;\n",
              "  /* Definition of color scheme for unfitted estimators */\n",
              "  --sklearn-color-unfitted-level-0: #fff5e6;\n",
              "  --sklearn-color-unfitted-level-1: #f6e4d2;\n",
              "  --sklearn-color-unfitted-level-2: #ffe0b3;\n",
              "  --sklearn-color-unfitted-level-3: chocolate;\n",
              "  /* Definition of color scheme for fitted estimators */\n",
              "  --sklearn-color-fitted-level-0: #f0f8ff;\n",
              "  --sklearn-color-fitted-level-1: #d4ebff;\n",
              "  --sklearn-color-fitted-level-2: #b3dbfd;\n",
              "  --sklearn-color-fitted-level-3: cornflowerblue;\n",
              "\n",
              "  /* Specific color for light theme */\n",
              "  --sklearn-color-text-on-default-background: var(--sg-text-color, var(--theme-code-foreground, var(--jp-content-font-color1, black)));\n",
              "  --sklearn-color-background: var(--sg-background-color, var(--theme-background, var(--jp-layout-color0, white)));\n",
              "  --sklearn-color-border-box: var(--sg-text-color, var(--theme-code-foreground, var(--jp-content-font-color1, black)));\n",
              "  --sklearn-color-icon: #696969;\n",
              "\n",
              "  @media (prefers-color-scheme: dark) {\n",
              "    /* Redefinition of color scheme for dark theme */\n",
              "    --sklearn-color-text-on-default-background: var(--sg-text-color, var(--theme-code-foreground, var(--jp-content-font-color1, white)));\n",
              "    --sklearn-color-background: var(--sg-background-color, var(--theme-background, var(--jp-layout-color0, #111)));\n",
              "    --sklearn-color-border-box: var(--sg-text-color, var(--theme-code-foreground, var(--jp-content-font-color1, white)));\n",
              "    --sklearn-color-icon: #878787;\n",
              "  }\n",
              "}\n",
              "\n",
              "#sk-container-id-1 {\n",
              "  color: var(--sklearn-color-text);\n",
              "}\n",
              "\n",
              "#sk-container-id-1 pre {\n",
              "  padding: 0;\n",
              "}\n",
              "\n",
              "#sk-container-id-1 input.sk-hidden--visually {\n",
              "  border: 0;\n",
              "  clip: rect(1px 1px 1px 1px);\n",
              "  clip: rect(1px, 1px, 1px, 1px);\n",
              "  height: 1px;\n",
              "  margin: -1px;\n",
              "  overflow: hidden;\n",
              "  padding: 0;\n",
              "  position: absolute;\n",
              "  width: 1px;\n",
              "}\n",
              "\n",
              "#sk-container-id-1 div.sk-dashed-wrapped {\n",
              "  border: 1px dashed var(--sklearn-color-line);\n",
              "  margin: 0 0.4em 0.5em 0.4em;\n",
              "  box-sizing: border-box;\n",
              "  padding-bottom: 0.4em;\n",
              "  background-color: var(--sklearn-color-background);\n",
              "}\n",
              "\n",
              "#sk-container-id-1 div.sk-container {\n",
              "  /* jupyter's `normalize.less` sets `[hidden] { display: none; }`\n",
              "     but bootstrap.min.css set `[hidden] { display: none !important; }`\n",
              "     so we also need the `!important` here to be able to override the\n",
              "     default hidden behavior on the sphinx rendered scikit-learn.org.\n",
              "     See: https://github.com/scikit-learn/scikit-learn/issues/21755 */\n",
              "  display: inline-block !important;\n",
              "  position: relative;\n",
              "}\n",
              "\n",
              "#sk-container-id-1 div.sk-text-repr-fallback {\n",
              "  display: none;\n",
              "}\n",
              "\n",
              "div.sk-parallel-item,\n",
              "div.sk-serial,\n",
              "div.sk-item {\n",
              "  /* draw centered vertical line to link estimators */\n",
              "  background-image: linear-gradient(var(--sklearn-color-text-on-default-background), var(--sklearn-color-text-on-default-background));\n",
              "  background-size: 2px 100%;\n",
              "  background-repeat: no-repeat;\n",
              "  background-position: center center;\n",
              "}\n",
              "\n",
              "/* Parallel-specific style estimator block */\n",
              "\n",
              "#sk-container-id-1 div.sk-parallel-item::after {\n",
              "  content: \"\";\n",
              "  width: 100%;\n",
              "  border-bottom: 2px solid var(--sklearn-color-text-on-default-background);\n",
              "  flex-grow: 1;\n",
              "}\n",
              "\n",
              "#sk-container-id-1 div.sk-parallel {\n",
              "  display: flex;\n",
              "  align-items: stretch;\n",
              "  justify-content: center;\n",
              "  background-color: var(--sklearn-color-background);\n",
              "  position: relative;\n",
              "}\n",
              "\n",
              "#sk-container-id-1 div.sk-parallel-item {\n",
              "  display: flex;\n",
              "  flex-direction: column;\n",
              "}\n",
              "\n",
              "#sk-container-id-1 div.sk-parallel-item:first-child::after {\n",
              "  align-self: flex-end;\n",
              "  width: 50%;\n",
              "}\n",
              "\n",
              "#sk-container-id-1 div.sk-parallel-item:last-child::after {\n",
              "  align-self: flex-start;\n",
              "  width: 50%;\n",
              "}\n",
              "\n",
              "#sk-container-id-1 div.sk-parallel-item:only-child::after {\n",
              "  width: 0;\n",
              "}\n",
              "\n",
              "/* Serial-specific style estimator block */\n",
              "\n",
              "#sk-container-id-1 div.sk-serial {\n",
              "  display: flex;\n",
              "  flex-direction: column;\n",
              "  align-items: center;\n",
              "  background-color: var(--sklearn-color-background);\n",
              "  padding-right: 1em;\n",
              "  padding-left: 1em;\n",
              "}\n",
              "\n",
              "\n",
              "/* Toggleable style: style used for estimator/Pipeline/ColumnTransformer box that is\n",
              "clickable and can be expanded/collapsed.\n",
              "- Pipeline and ColumnTransformer use this feature and define the default style\n",
              "- Estimators will overwrite some part of the style using the `sk-estimator` class\n",
              "*/\n",
              "\n",
              "/* Pipeline and ColumnTransformer style (default) */\n",
              "\n",
              "#sk-container-id-1 div.sk-toggleable {\n",
              "  /* Default theme specific background. It is overwritten whether we have a\n",
              "  specific estimator or a Pipeline/ColumnTransformer */\n",
              "  background-color: var(--sklearn-color-background);\n",
              "}\n",
              "\n",
              "/* Toggleable label */\n",
              "#sk-container-id-1 label.sk-toggleable__label {\n",
              "  cursor: pointer;\n",
              "  display: flex;\n",
              "  width: 100%;\n",
              "  margin-bottom: 0;\n",
              "  padding: 0.5em;\n",
              "  box-sizing: border-box;\n",
              "  text-align: center;\n",
              "  align-items: start;\n",
              "  justify-content: space-between;\n",
              "  gap: 0.5em;\n",
              "}\n",
              "\n",
              "#sk-container-id-1 label.sk-toggleable__label .caption {\n",
              "  font-size: 0.6rem;\n",
              "  font-weight: lighter;\n",
              "  color: var(--sklearn-color-text-muted);\n",
              "}\n",
              "\n",
              "#sk-container-id-1 label.sk-toggleable__label-arrow:before {\n",
              "  /* Arrow on the left of the label */\n",
              "  content: \"▸\";\n",
              "  float: left;\n",
              "  margin-right: 0.25em;\n",
              "  color: var(--sklearn-color-icon);\n",
              "}\n",
              "\n",
              "#sk-container-id-1 label.sk-toggleable__label-arrow:hover:before {\n",
              "  color: var(--sklearn-color-text);\n",
              "}\n",
              "\n",
              "/* Toggleable content - dropdown */\n",
              "\n",
              "#sk-container-id-1 div.sk-toggleable__content {\n",
              "  max-height: 0;\n",
              "  max-width: 0;\n",
              "  overflow: hidden;\n",
              "  text-align: left;\n",
              "  /* unfitted */\n",
              "  background-color: var(--sklearn-color-unfitted-level-0);\n",
              "}\n",
              "\n",
              "#sk-container-id-1 div.sk-toggleable__content.fitted {\n",
              "  /* fitted */\n",
              "  background-color: var(--sklearn-color-fitted-level-0);\n",
              "}\n",
              "\n",
              "#sk-container-id-1 div.sk-toggleable__content pre {\n",
              "  margin: 0.2em;\n",
              "  border-radius: 0.25em;\n",
              "  color: var(--sklearn-color-text);\n",
              "  /* unfitted */\n",
              "  background-color: var(--sklearn-color-unfitted-level-0);\n",
              "}\n",
              "\n",
              "#sk-container-id-1 div.sk-toggleable__content.fitted pre {\n",
              "  /* unfitted */\n",
              "  background-color: var(--sklearn-color-fitted-level-0);\n",
              "}\n",
              "\n",
              "#sk-container-id-1 input.sk-toggleable__control:checked~div.sk-toggleable__content {\n",
              "  /* Expand drop-down */\n",
              "  max-height: 200px;\n",
              "  max-width: 100%;\n",
              "  overflow: auto;\n",
              "}\n",
              "\n",
              "#sk-container-id-1 input.sk-toggleable__control:checked~label.sk-toggleable__label-arrow:before {\n",
              "  content: \"▾\";\n",
              "}\n",
              "\n",
              "/* Pipeline/ColumnTransformer-specific style */\n",
              "\n",
              "#sk-container-id-1 div.sk-label input.sk-toggleable__control:checked~label.sk-toggleable__label {\n",
              "  color: var(--sklearn-color-text);\n",
              "  background-color: var(--sklearn-color-unfitted-level-2);\n",
              "}\n",
              "\n",
              "#sk-container-id-1 div.sk-label.fitted input.sk-toggleable__control:checked~label.sk-toggleable__label {\n",
              "  background-color: var(--sklearn-color-fitted-level-2);\n",
              "}\n",
              "\n",
              "/* Estimator-specific style */\n",
              "\n",
              "/* Colorize estimator box */\n",
              "#sk-container-id-1 div.sk-estimator input.sk-toggleable__control:checked~label.sk-toggleable__label {\n",
              "  /* unfitted */\n",
              "  background-color: var(--sklearn-color-unfitted-level-2);\n",
              "}\n",
              "\n",
              "#sk-container-id-1 div.sk-estimator.fitted input.sk-toggleable__control:checked~label.sk-toggleable__label {\n",
              "  /* fitted */\n",
              "  background-color: var(--sklearn-color-fitted-level-2);\n",
              "}\n",
              "\n",
              "#sk-container-id-1 div.sk-label label.sk-toggleable__label,\n",
              "#sk-container-id-1 div.sk-label label {\n",
              "  /* The background is the default theme color */\n",
              "  color: var(--sklearn-color-text-on-default-background);\n",
              "}\n",
              "\n",
              "/* On hover, darken the color of the background */\n",
              "#sk-container-id-1 div.sk-label:hover label.sk-toggleable__label {\n",
              "  color: var(--sklearn-color-text);\n",
              "  background-color: var(--sklearn-color-unfitted-level-2);\n",
              "}\n",
              "\n",
              "/* Label box, darken color on hover, fitted */\n",
              "#sk-container-id-1 div.sk-label.fitted:hover label.sk-toggleable__label.fitted {\n",
              "  color: var(--sklearn-color-text);\n",
              "  background-color: var(--sklearn-color-fitted-level-2);\n",
              "}\n",
              "\n",
              "/* Estimator label */\n",
              "\n",
              "#sk-container-id-1 div.sk-label label {\n",
              "  font-family: monospace;\n",
              "  font-weight: bold;\n",
              "  display: inline-block;\n",
              "  line-height: 1.2em;\n",
              "}\n",
              "\n",
              "#sk-container-id-1 div.sk-label-container {\n",
              "  text-align: center;\n",
              "}\n",
              "\n",
              "/* Estimator-specific */\n",
              "#sk-container-id-1 div.sk-estimator {\n",
              "  font-family: monospace;\n",
              "  border: 1px dotted var(--sklearn-color-border-box);\n",
              "  border-radius: 0.25em;\n",
              "  box-sizing: border-box;\n",
              "  margin-bottom: 0.5em;\n",
              "  /* unfitted */\n",
              "  background-color: var(--sklearn-color-unfitted-level-0);\n",
              "}\n",
              "\n",
              "#sk-container-id-1 div.sk-estimator.fitted {\n",
              "  /* fitted */\n",
              "  background-color: var(--sklearn-color-fitted-level-0);\n",
              "}\n",
              "\n",
              "/* on hover */\n",
              "#sk-container-id-1 div.sk-estimator:hover {\n",
              "  /* unfitted */\n",
              "  background-color: var(--sklearn-color-unfitted-level-2);\n",
              "}\n",
              "\n",
              "#sk-container-id-1 div.sk-estimator.fitted:hover {\n",
              "  /* fitted */\n",
              "  background-color: var(--sklearn-color-fitted-level-2);\n",
              "}\n",
              "\n",
              "/* Specification for estimator info (e.g. \"i\" and \"?\") */\n",
              "\n",
              "/* Common style for \"i\" and \"?\" */\n",
              "\n",
              ".sk-estimator-doc-link,\n",
              "a:link.sk-estimator-doc-link,\n",
              "a:visited.sk-estimator-doc-link {\n",
              "  float: right;\n",
              "  font-size: smaller;\n",
              "  line-height: 1em;\n",
              "  font-family: monospace;\n",
              "  background-color: var(--sklearn-color-background);\n",
              "  border-radius: 1em;\n",
              "  height: 1em;\n",
              "  width: 1em;\n",
              "  text-decoration: none !important;\n",
              "  margin-left: 0.5em;\n",
              "  text-align: center;\n",
              "  /* unfitted */\n",
              "  border: var(--sklearn-color-unfitted-level-1) 1pt solid;\n",
              "  color: var(--sklearn-color-unfitted-level-1);\n",
              "}\n",
              "\n",
              ".sk-estimator-doc-link.fitted,\n",
              "a:link.sk-estimator-doc-link.fitted,\n",
              "a:visited.sk-estimator-doc-link.fitted {\n",
              "  /* fitted */\n",
              "  border: var(--sklearn-color-fitted-level-1) 1pt solid;\n",
              "  color: var(--sklearn-color-fitted-level-1);\n",
              "}\n",
              "\n",
              "/* On hover */\n",
              "div.sk-estimator:hover .sk-estimator-doc-link:hover,\n",
              ".sk-estimator-doc-link:hover,\n",
              "div.sk-label-container:hover .sk-estimator-doc-link:hover,\n",
              ".sk-estimator-doc-link:hover {\n",
              "  /* unfitted */\n",
              "  background-color: var(--sklearn-color-unfitted-level-3);\n",
              "  color: var(--sklearn-color-background);\n",
              "  text-decoration: none;\n",
              "}\n",
              "\n",
              "div.sk-estimator.fitted:hover .sk-estimator-doc-link.fitted:hover,\n",
              ".sk-estimator-doc-link.fitted:hover,\n",
              "div.sk-label-container:hover .sk-estimator-doc-link.fitted:hover,\n",
              ".sk-estimator-doc-link.fitted:hover {\n",
              "  /* fitted */\n",
              "  background-color: var(--sklearn-color-fitted-level-3);\n",
              "  color: var(--sklearn-color-background);\n",
              "  text-decoration: none;\n",
              "}\n",
              "\n",
              "/* Span, style for the box shown on hovering the info icon */\n",
              ".sk-estimator-doc-link span {\n",
              "  display: none;\n",
              "  z-index: 9999;\n",
              "  position: relative;\n",
              "  font-weight: normal;\n",
              "  right: .2ex;\n",
              "  padding: .5ex;\n",
              "  margin: .5ex;\n",
              "  width: min-content;\n",
              "  min-width: 20ex;\n",
              "  max-width: 50ex;\n",
              "  color: var(--sklearn-color-text);\n",
              "  box-shadow: 2pt 2pt 4pt #999;\n",
              "  /* unfitted */\n",
              "  background: var(--sklearn-color-unfitted-level-0);\n",
              "  border: .5pt solid var(--sklearn-color-unfitted-level-3);\n",
              "}\n",
              "\n",
              ".sk-estimator-doc-link.fitted span {\n",
              "  /* fitted */\n",
              "  background: var(--sklearn-color-fitted-level-0);\n",
              "  border: var(--sklearn-color-fitted-level-3);\n",
              "}\n",
              "\n",
              ".sk-estimator-doc-link:hover span {\n",
              "  display: block;\n",
              "}\n",
              "\n",
              "/* \"?\"-specific style due to the `<a>` HTML tag */\n",
              "\n",
              "#sk-container-id-1 a.estimator_doc_link {\n",
              "  float: right;\n",
              "  font-size: 1rem;\n",
              "  line-height: 1em;\n",
              "  font-family: monospace;\n",
              "  background-color: var(--sklearn-color-background);\n",
              "  border-radius: 1rem;\n",
              "  height: 1rem;\n",
              "  width: 1rem;\n",
              "  text-decoration: none;\n",
              "  /* unfitted */\n",
              "  color: var(--sklearn-color-unfitted-level-1);\n",
              "  border: var(--sklearn-color-unfitted-level-1) 1pt solid;\n",
              "}\n",
              "\n",
              "#sk-container-id-1 a.estimator_doc_link.fitted {\n",
              "  /* fitted */\n",
              "  border: var(--sklearn-color-fitted-level-1) 1pt solid;\n",
              "  color: var(--sklearn-color-fitted-level-1);\n",
              "}\n",
              "\n",
              "/* On hover */\n",
              "#sk-container-id-1 a.estimator_doc_link:hover {\n",
              "  /* unfitted */\n",
              "  background-color: var(--sklearn-color-unfitted-level-3);\n",
              "  color: var(--sklearn-color-background);\n",
              "  text-decoration: none;\n",
              "}\n",
              "\n",
              "#sk-container-id-1 a.estimator_doc_link.fitted:hover {\n",
              "  /* fitted */\n",
              "  background-color: var(--sklearn-color-fitted-level-3);\n",
              "}\n",
              "</style><div id=\"sk-container-id-1\" class=\"sk-top-container\"><div class=\"sk-text-repr-fallback\"><pre>RandomForestClassifier(random_state=42)</pre><b>In a Jupyter environment, please rerun this cell to show the HTML representation or trust the notebook. <br />On GitHub, the HTML representation is unable to render, please try loading this page with nbviewer.org.</b></div><div class=\"sk-container\" hidden><div class=\"sk-item\"><div class=\"sk-estimator fitted sk-toggleable\"><input class=\"sk-toggleable__control sk-hidden--visually\" id=\"sk-estimator-id-1\" type=\"checkbox\" checked><label for=\"sk-estimator-id-1\" class=\"sk-toggleable__label fitted sk-toggleable__label-arrow\"><div><div>RandomForestClassifier</div></div><div><a class=\"sk-estimator-doc-link fitted\" rel=\"noreferrer\" target=\"_blank\" href=\"https://scikit-learn.org/1.6/modules/generated/sklearn.ensemble.RandomForestClassifier.html\">?<span>Documentation for RandomForestClassifier</span></a><span class=\"sk-estimator-doc-link fitted\">i<span>Fitted</span></span></div></label><div class=\"sk-toggleable__content fitted\"><pre>RandomForestClassifier(random_state=42)</pre></div> </div></div></div></div>"
            ]
          },
          "metadata": {},
          "execution_count": 64
        }
      ]
    },
    {
      "cell_type": "code",
      "source": [
        "# Prédictions sur l'ensemble de test avant et après le suréchantillonnage\n",
        "y_pred_before = model.predict(X_test)  # Modèle suréchantillonné\n",
        "y_pred_without_resampling = model.predict(X_test)  # Modèle sans suréchantillonnage\n",
        "\n",
        "# Calcul des métriques avant et après suréchantillonnage\n",
        "from sklearn.metrics import accuracy_score, precision_score, recall_score, f1_score\n",
        "\n",
        "# Avant suréchantillonnage\n",
        "print(\"Métriques sans suréchantillonnage :\")\n",
        "print(f\"Accuracy : {accuracy_score(y_test, y_pred_without_resampling):.4f}\")\n",
        "print(f\"Précision : {precision_score(y_test, y_pred_without_resampling):.4f}\")\n",
        "print(f\"Rappel : {recall_score(y_test, y_pred_without_resampling):.4f}\")\n",
        "print(f\"F1 Score : {f1_score(y_test, y_pred_without_resampling):.4f}\")\n",
        "\n",
        "# Après suréchantillonnage\n",
        "print(\"\\nMétriques après suréchantillonnage :\")\n",
        "print(f\"Accuracy : {accuracy_score(y_test, y_pred_before):.4f}\")\n",
        "print(f\"Précision : {precision_score(y_test, y_pred_before):.4f}\")\n",
        "print(f\"Rappel : {recall_score(y_test, y_pred_before):.4f}\")\n",
        "print(f\"F1 Score : {f1_score(y_test, y_pred_before):.4f}\")\n"
      ],
      "metadata": {
        "colab": {
          "base_uri": "https://localhost:8080/"
        },
        "id": "SaF5ViuLR_7Q",
        "outputId": "4c48b029-877a-446f-a6cf-123439b4b57a"
      },
      "execution_count": 65,
      "outputs": [
        {
          "output_type": "stream",
          "name": "stdout",
          "text": [
            "Métriques sans suréchantillonnage :\n",
            "Accuracy : 0.9172\n",
            "Précision : 0.0000\n",
            "Rappel : 0.0000\n",
            "F1 Score : 0.0000\n",
            "\n",
            "Métriques après suréchantillonnage :\n",
            "Accuracy : 0.9172\n",
            "Précision : 0.0000\n",
            "Rappel : 0.0000\n",
            "F1 Score : 0.0000\n"
          ]
        }
      ]
    },
    {
      "cell_type": "code",
      "source": [
        "pip install wandb\n"
      ],
      "metadata": {
        "colab": {
          "base_uri": "https://localhost:8080/"
        },
        "id": "mj4-Q5-pVf1V",
        "outputId": "77ba3216-5ded-4242-ea12-a4a5ff426473"
      },
      "execution_count": 66,
      "outputs": [
        {
          "output_type": "stream",
          "name": "stdout",
          "text": [
            "Requirement already satisfied: wandb in /usr/local/lib/python3.11/dist-packages (0.19.8)\n",
            "Requirement already satisfied: click!=8.0.0,>=7.1 in /usr/local/lib/python3.11/dist-packages (from wandb) (8.1.8)\n",
            "Requirement already satisfied: docker-pycreds>=0.4.0 in /usr/local/lib/python3.11/dist-packages (from wandb) (0.4.0)\n",
            "Requirement already satisfied: gitpython!=3.1.29,>=1.0.0 in /usr/local/lib/python3.11/dist-packages (from wandb) (3.1.44)\n",
            "Requirement already satisfied: platformdirs in /usr/local/lib/python3.11/dist-packages (from wandb) (4.3.6)\n",
            "Requirement already satisfied: protobuf!=4.21.0,!=5.28.0,<6,>=3.19.0 in /usr/local/lib/python3.11/dist-packages (from wandb) (4.25.6)\n",
            "Requirement already satisfied: psutil>=5.0.0 in /usr/local/lib/python3.11/dist-packages (from wandb) (5.9.5)\n",
            "Requirement already satisfied: pydantic<3,>=2.6 in /usr/local/lib/python3.11/dist-packages (from wandb) (2.10.6)\n",
            "Requirement already satisfied: pyyaml in /usr/local/lib/python3.11/dist-packages (from wandb) (6.0.2)\n",
            "Requirement already satisfied: requests<3,>=2.0.0 in /usr/local/lib/python3.11/dist-packages (from wandb) (2.32.3)\n",
            "Requirement already satisfied: sentry-sdk>=2.0.0 in /usr/local/lib/python3.11/dist-packages (from wandb) (2.22.0)\n",
            "Requirement already satisfied: setproctitle in /usr/local/lib/python3.11/dist-packages (from wandb) (1.3.5)\n",
            "Requirement already satisfied: setuptools in /usr/local/lib/python3.11/dist-packages (from wandb) (75.1.0)\n",
            "Requirement already satisfied: typing-extensions<5,>=4.4 in /usr/local/lib/python3.11/dist-packages (from wandb) (4.12.2)\n",
            "Requirement already satisfied: six>=1.4.0 in /usr/local/lib/python3.11/dist-packages (from docker-pycreds>=0.4.0->wandb) (1.17.0)\n",
            "Requirement already satisfied: gitdb<5,>=4.0.1 in /usr/local/lib/python3.11/dist-packages (from gitpython!=3.1.29,>=1.0.0->wandb) (4.0.12)\n",
            "Requirement already satisfied: annotated-types>=0.6.0 in /usr/local/lib/python3.11/dist-packages (from pydantic<3,>=2.6->wandb) (0.7.0)\n",
            "Requirement already satisfied: pydantic-core==2.27.2 in /usr/local/lib/python3.11/dist-packages (from pydantic<3,>=2.6->wandb) (2.27.2)\n",
            "Requirement already satisfied: charset-normalizer<4,>=2 in /usr/local/lib/python3.11/dist-packages (from requests<3,>=2.0.0->wandb) (3.4.1)\n",
            "Requirement already satisfied: idna<4,>=2.5 in /usr/local/lib/python3.11/dist-packages (from requests<3,>=2.0.0->wandb) (3.10)\n",
            "Requirement already satisfied: urllib3<3,>=1.21.1 in /usr/local/lib/python3.11/dist-packages (from requests<3,>=2.0.0->wandb) (2.3.0)\n",
            "Requirement already satisfied: certifi>=2017.4.17 in /usr/local/lib/python3.11/dist-packages (from requests<3,>=2.0.0->wandb) (2025.1.31)\n",
            "Requirement already satisfied: smmap<6,>=3.0.1 in /usr/local/lib/python3.11/dist-packages (from gitdb<5,>=4.0.1->gitpython!=3.1.29,>=1.0.0->wandb) (5.0.2)\n"
          ]
        }
      ]
    },
    {
      "cell_type": "code",
      "source": [
        "import wandb\n",
        "wandb.login()\n"
      ],
      "metadata": {
        "colab": {
          "base_uri": "https://localhost:8080/"
        },
        "id": "OjjQdWMYXkXb",
        "outputId": "215724fc-2dd1-4620-df5e-01d918efa8dc"
      },
      "execution_count": 70,
      "outputs": [
        {
          "output_type": "execute_result",
          "data": {
            "text/plain": [
              "True"
            ]
          },
          "metadata": {},
          "execution_count": 70
        }
      ]
    },
    {
      "cell_type": "code",
      "source": [
        "wandb.init(project=\"nom_du_projet\", name=\"nom_de_l_experience\")\n"
      ],
      "metadata": {
        "colab": {
          "base_uri": "https://localhost:8080/",
          "height": 120
        },
        "id": "L-duyivuXnGT",
        "outputId": "eab3379d-0d12-421c-b4ef-a6c6d4cfc586"
      },
      "execution_count": 71,
      "outputs": [
        {
          "output_type": "display_data",
          "data": {
            "text/plain": [
              "<IPython.core.display.HTML object>"
            ],
            "text/html": [
              "Tracking run with wandb version 0.19.8"
            ]
          },
          "metadata": {}
        },
        {
          "output_type": "display_data",
          "data": {
            "text/plain": [
              "<IPython.core.display.HTML object>"
            ],
            "text/html": [
              "Run data is saved locally in <code>/content/wandb/run-20250318_130823-qfijruf8</code>"
            ]
          },
          "metadata": {}
        },
        {
          "output_type": "display_data",
          "data": {
            "text/plain": [
              "<IPython.core.display.HTML object>"
            ],
            "text/html": [
              "Syncing run <strong><a href='https://wandb.ai/tarikamirou1234-ecc/nom_du_projet/runs/qfijruf8' target=\"_blank\">nom_de_l_experience</a></strong> to <a href='https://wandb.ai/tarikamirou1234-ecc/nom_du_projet' target=\"_blank\">Weights & Biases</a> (<a href='https://wandb.me/developer-guide' target=\"_blank\">docs</a>)<br>"
            ]
          },
          "metadata": {}
        },
        {
          "output_type": "display_data",
          "data": {
            "text/plain": [
              "<IPython.core.display.HTML object>"
            ],
            "text/html": [
              " View project at <a href='https://wandb.ai/tarikamirou1234-ecc/nom_du_projet' target=\"_blank\">https://wandb.ai/tarikamirou1234-ecc/nom_du_projet</a>"
            ]
          },
          "metadata": {}
        },
        {
          "output_type": "display_data",
          "data": {
            "text/plain": [
              "<IPython.core.display.HTML object>"
            ],
            "text/html": [
              " View run at <a href='https://wandb.ai/tarikamirou1234-ecc/nom_du_projet/runs/qfijruf8' target=\"_blank\">https://wandb.ai/tarikamirou1234-ecc/nom_du_projet/runs/qfijruf8</a>"
            ]
          },
          "metadata": {}
        },
        {
          "output_type": "execute_result",
          "data": {
            "text/html": [
              "<button onClick=\"this.nextSibling.style.display='block';this.style.display='none';\">Display W&B run</button><iframe src='https://wandb.ai/tarikamirou1234-ecc/nom_du_projet/runs/qfijruf8?jupyter=true' style='border:none;width:100%;height:420px;display:none;'></iframe>"
            ],
            "text/plain": [
              "<wandb.sdk.wandb_run.Run at 0x78f7a6ec49d0>"
            ]
          },
          "metadata": {},
          "execution_count": 71
        }
      ]
    },
    {
      "cell_type": "code",
      "source": [
        "from sklearn.tree import DecisionTreeClassifier\n",
        "from sklearn.metrics import classification_report\n",
        "\n",
        "# Initialisation de WandB\n",
        "wandb.init(project=\"classification_model\", name=\"DecisionTree\")\n",
        "\n",
        "# Entraînement du modèle\n",
        "dt_model = DecisionTreeClassifier()\n",
        "dt_model.fit(X_train, y_train)\n",
        "y_pred_dt = dt_model.predict(X_test)\n",
        "\n",
        "# Évaluation du modèle\n",
        "report_dt = classification_report(y_test, y_pred_dt, output_dict=True)\n",
        "\n",
        "# Log des performances dans WandB\n",
        "wandb.log({\n",
        "    \"accuracy\": report_dt[\"accuracy\"],\n",
        "    \"precision\": report_dt[\"1\"][\"precision\"],\n",
        "    \"recall\": report_dt[\"1\"][\"recall\"],\n",
        "    \"f1_score\": report_dt[\"1\"][\"f1-score\"]\n",
        "})\n",
        "\n",
        "# Fin de l'expérience\n",
        "wandb.finish()\n"
      ],
      "metadata": {
        "colab": {
          "base_uri": "https://localhost:8080/",
          "height": 440
        },
        "id": "LXXJ-fdNYCnR",
        "outputId": "7fc7c0b8-4b29-4e1d-f8f4-cb05432c09e1"
      },
      "execution_count": 72,
      "outputs": [
        {
          "output_type": "display_data",
          "data": {
            "text/plain": [
              "<IPython.core.display.HTML object>"
            ],
            "text/html": []
          },
          "metadata": {}
        },
        {
          "output_type": "display_data",
          "data": {
            "text/plain": [
              "<IPython.core.display.HTML object>"
            ],
            "text/html": [
              "<br>    <style><br>        .wandb-row {<br>            display: flex;<br>            flex-direction: row;<br>            flex-wrap: wrap;<br>            justify-content: flex-start;<br>            width: 100%;<br>        }<br>        .wandb-col {<br>            display: flex;<br>            flex-direction: column;<br>            flex-basis: 100%;<br>            flex: 1;<br>            padding: 10px;<br>        }<br>    </style><br><div class=\"wandb-row\"><div class=\"wandb-col\"><h3>Run history:</h3><br/><table class=\"wandb\"><tr><td>accuracy</td><td>▁</td></tr><tr><td>f1_score</td><td>▁</td></tr><tr><td>precision</td><td>▁</td></tr><tr><td>recall</td><td>▁</td></tr></table><br/></div><div class=\"wandb-col\"><h3>Run summary:</h3><br/><table class=\"wandb\"><tr><td>accuracy</td><td>0.8535</td></tr><tr><td>f1_score</td><td>0.17857</td></tr><tr><td>precision</td><td>0.15625</td></tr><tr><td>recall</td><td>0.20833</td></tr></table><br/></div></div>"
            ]
          },
          "metadata": {}
        },
        {
          "output_type": "display_data",
          "data": {
            "text/plain": [
              "<IPython.core.display.HTML object>"
            ],
            "text/html": [
              " View run <strong style=\"color:#cdcd00\">nom_de_l_experience</strong> at: <a href='https://wandb.ai/tarikamirou1234-ecc/nom_du_projet/runs/qfijruf8' target=\"_blank\">https://wandb.ai/tarikamirou1234-ecc/nom_du_projet/runs/qfijruf8</a><br> View project at: <a href='https://wandb.ai/tarikamirou1234-ecc/nom_du_projet' target=\"_blank\">https://wandb.ai/tarikamirou1234-ecc/nom_du_projet</a><br>Synced 5 W&B file(s), 0 media file(s), 0 artifact file(s) and 0 other file(s)"
            ]
          },
          "metadata": {}
        },
        {
          "output_type": "display_data",
          "data": {
            "text/plain": [
              "<IPython.core.display.HTML object>"
            ],
            "text/html": [
              "Find logs at: <code>./wandb/run-20250318_130823-qfijruf8/logs</code>"
            ]
          },
          "metadata": {}
        }
      ]
    },
    {
      "cell_type": "code",
      "source": [
        "from sklearn.ensemble import RandomForestClassifier\n",
        "\n",
        "wandb.init(project=\"classification_model\", name=\"RandomForest\")\n",
        "\n",
        "rf_model = RandomForestClassifier()\n",
        "rf_model.fit(X_train, y_train)\n",
        "y_pred_rf = rf_model.predict(X_test)\n",
        "\n",
        "report_rf = classification_report(y_test, y_pred_rf, output_dict=True)\n",
        "\n",
        "wandb.log({\n",
        "    \"accuracy\": report_rf[\"accuracy\"],\n",
        "    \"precision\": report_rf[\"1\"][\"precision\"],\n",
        "    \"recall\": report_rf[\"1\"][\"recall\"],\n",
        "    \"f1_score\": report_rf[\"1\"][\"f1-score\"]\n",
        "})\n",
        "\n",
        "wandb.finish()\n"
      ],
      "metadata": {
        "colab": {
          "base_uri": "https://localhost:8080/",
          "height": 562
        },
        "id": "9Q7PiEVAZqSr",
        "outputId": "f93833ab-8c8b-4012-d3df-33a73e9250cc"
      },
      "execution_count": 77,
      "outputs": [
        {
          "output_type": "stream",
          "name": "stderr",
          "text": [
            "/usr/local/lib/python3.11/dist-packages/sklearn/metrics/_classification.py:1565: UndefinedMetricWarning: Precision is ill-defined and being set to 0.0 in labels with no predicted samples. Use `zero_division` parameter to control this behavior.\n",
            "  _warn_prf(average, modifier, f\"{metric.capitalize()} is\", len(result))\n",
            "/usr/local/lib/python3.11/dist-packages/sklearn/metrics/_classification.py:1565: UndefinedMetricWarning: Precision is ill-defined and being set to 0.0 in labels with no predicted samples. Use `zero_division` parameter to control this behavior.\n",
            "  _warn_prf(average, modifier, f\"{metric.capitalize()} is\", len(result))\n",
            "/usr/local/lib/python3.11/dist-packages/sklearn/metrics/_classification.py:1565: UndefinedMetricWarning: Precision is ill-defined and being set to 0.0 in labels with no predicted samples. Use `zero_division` parameter to control this behavior.\n",
            "  _warn_prf(average, modifier, f\"{metric.capitalize()} is\", len(result))\n"
          ]
        },
        {
          "output_type": "display_data",
          "data": {
            "text/plain": [
              "<IPython.core.display.HTML object>"
            ],
            "text/html": []
          },
          "metadata": {}
        },
        {
          "output_type": "display_data",
          "data": {
            "text/plain": [
              "<IPython.core.display.HTML object>"
            ],
            "text/html": [
              "<br>    <style><br>        .wandb-row {<br>            display: flex;<br>            flex-direction: row;<br>            flex-wrap: wrap;<br>            justify-content: flex-start;<br>            width: 100%;<br>        }<br>        .wandb-col {<br>            display: flex;<br>            flex-direction: column;<br>            flex-basis: 100%;<br>            flex: 1;<br>            padding: 10px;<br>        }<br>    </style><br><div class=\"wandb-row\"><div class=\"wandb-col\"><h3>Run history:</h3><br/><table class=\"wandb\"><tr><td>accuracy</td><td>▁</td></tr><tr><td>f1_score</td><td>▁</td></tr><tr><td>precision</td><td>▁</td></tr><tr><td>recall</td><td>▁</td></tr></table><br/></div><div class=\"wandb-col\"><h3>Run summary:</h3><br/><table class=\"wandb\"><tr><td>accuracy</td><td>0.92357</td></tr><tr><td>f1_score</td><td>0</td></tr><tr><td>precision</td><td>0</td></tr><tr><td>recall</td><td>0</td></tr></table><br/></div></div>"
            ]
          },
          "metadata": {}
        },
        {
          "output_type": "display_data",
          "data": {
            "text/plain": [
              "<IPython.core.display.HTML object>"
            ],
            "text/html": [
              " View run <strong style=\"color:#cdcd00\">whole-capybara-1</strong> at: <a href='https://wandb.ai/tarikamirou1234-ecc/classification_model/runs/slf6ki47' target=\"_blank\">https://wandb.ai/tarikamirou1234-ecc/classification_model/runs/slf6ki47</a><br> View project at: <a href='https://wandb.ai/tarikamirou1234-ecc/classification_model' target=\"_blank\">https://wandb.ai/tarikamirou1234-ecc/classification_model</a><br>Synced 5 W&B file(s), 0 media file(s), 0 artifact file(s) and 0 other file(s)"
            ]
          },
          "metadata": {}
        },
        {
          "output_type": "display_data",
          "data": {
            "text/plain": [
              "<IPython.core.display.HTML object>"
            ],
            "text/html": [
              "Find logs at: <code>./wandb/run-20250318_131251-slf6ki47/logs</code>"
            ]
          },
          "metadata": {}
        }
      ]
    },
    {
      "cell_type": "code",
      "source": [
        "from sklearn.ensemble import AdaBoostClassifier\n",
        "\n",
        "wandb.init(project=\"classification_model\", name=\"AdaBoost\")\n",
        "\n",
        "ada_model = AdaBoostClassifier()\n",
        "ada_model.fit(X_train, y_train)\n",
        "y_pred_ada = ada_model.predict(X_test)\n",
        "\n",
        "report_ada = classification_report(y_test, y_pred_ada, output_dict=True)\n",
        "\n",
        "wandb.log({\n",
        "    \"accuracy\": report_ada[\"accuracy\"],\n",
        "    \"precision\": report_ada[\"1\"][\"precision\"],\n",
        "    \"recall\": report_ada[\"1\"][\"recall\"],\n",
        "    \"f1_score\": report_ada[\"1\"][\"f1-score\"]\n",
        "})\n",
        "\n",
        "wandb.finish()\n"
      ],
      "metadata": {
        "colab": {
          "base_uri": "https://localhost:8080/",
          "height": 525
        },
        "id": "_O4qpAYhZ9_K",
        "outputId": "40a5c058-ad84-4758-93d5-a7aa1a1368e0"
      },
      "execution_count": 78,
      "outputs": [
        {
          "output_type": "display_data",
          "data": {
            "text/plain": [
              "<IPython.core.display.HTML object>"
            ],
            "text/html": [
              "Tracking run with wandb version 0.19.8"
            ]
          },
          "metadata": {}
        },
        {
          "output_type": "display_data",
          "data": {
            "text/plain": [
              "<IPython.core.display.HTML object>"
            ],
            "text/html": [
              "Run data is saved locally in <code>/content/wandb/run-20250318_131834-ucdfeugs</code>"
            ]
          },
          "metadata": {}
        },
        {
          "output_type": "display_data",
          "data": {
            "text/plain": [
              "<IPython.core.display.HTML object>"
            ],
            "text/html": [
              "Syncing run <strong><a href='https://wandb.ai/tarikamirou1234-ecc/classification_model/runs/ucdfeugs' target=\"_blank\">AdaBoost</a></strong> to <a href='https://wandb.ai/tarikamirou1234-ecc/classification_model' target=\"_blank\">Weights & Biases</a> (<a href='https://wandb.me/developer-guide' target=\"_blank\">docs</a>)<br>"
            ]
          },
          "metadata": {}
        },
        {
          "output_type": "display_data",
          "data": {
            "text/plain": [
              "<IPython.core.display.HTML object>"
            ],
            "text/html": [
              " View project at <a href='https://wandb.ai/tarikamirou1234-ecc/classification_model' target=\"_blank\">https://wandb.ai/tarikamirou1234-ecc/classification_model</a>"
            ]
          },
          "metadata": {}
        },
        {
          "output_type": "display_data",
          "data": {
            "text/plain": [
              "<IPython.core.display.HTML object>"
            ],
            "text/html": [
              " View run at <a href='https://wandb.ai/tarikamirou1234-ecc/classification_model/runs/ucdfeugs' target=\"_blank\">https://wandb.ai/tarikamirou1234-ecc/classification_model/runs/ucdfeugs</a>"
            ]
          },
          "metadata": {}
        },
        {
          "output_type": "display_data",
          "data": {
            "text/plain": [
              "<IPython.core.display.HTML object>"
            ],
            "text/html": []
          },
          "metadata": {}
        },
        {
          "output_type": "display_data",
          "data": {
            "text/plain": [
              "<IPython.core.display.HTML object>"
            ],
            "text/html": [
              "<br>    <style><br>        .wandb-row {<br>            display: flex;<br>            flex-direction: row;<br>            flex-wrap: wrap;<br>            justify-content: flex-start;<br>            width: 100%;<br>        }<br>        .wandb-col {<br>            display: flex;<br>            flex-direction: column;<br>            flex-basis: 100%;<br>            flex: 1;<br>            padding: 10px;<br>        }<br>    </style><br><div class=\"wandb-row\"><div class=\"wandb-col\"><h3>Run history:</h3><br/><table class=\"wandb\"><tr><td>accuracy</td><td>▁</td></tr><tr><td>f1_score</td><td>▁</td></tr><tr><td>precision</td><td>▁</td></tr><tr><td>recall</td><td>▁</td></tr></table><br/></div><div class=\"wandb-col\"><h3>Run summary:</h3><br/><table class=\"wandb\"><tr><td>accuracy</td><td>0.91401</td></tr><tr><td>f1_score</td><td>0</td></tr><tr><td>precision</td><td>0</td></tr><tr><td>recall</td><td>0</td></tr></table><br/></div></div>"
            ]
          },
          "metadata": {}
        },
        {
          "output_type": "display_data",
          "data": {
            "text/plain": [
              "<IPython.core.display.HTML object>"
            ],
            "text/html": [
              " View run <strong style=\"color:#cdcd00\">AdaBoost</strong> at: <a href='https://wandb.ai/tarikamirou1234-ecc/classification_model/runs/ucdfeugs' target=\"_blank\">https://wandb.ai/tarikamirou1234-ecc/classification_model/runs/ucdfeugs</a><br> View project at: <a href='https://wandb.ai/tarikamirou1234-ecc/classification_model' target=\"_blank\">https://wandb.ai/tarikamirou1234-ecc/classification_model</a><br>Synced 5 W&B file(s), 0 media file(s), 0 artifact file(s) and 0 other file(s)"
            ]
          },
          "metadata": {}
        },
        {
          "output_type": "display_data",
          "data": {
            "text/plain": [
              "<IPython.core.display.HTML object>"
            ],
            "text/html": [
              "Find logs at: <code>./wandb/run-20250318_131834-ucdfeugs/logs</code>"
            ]
          },
          "metadata": {}
        }
      ]
    },
    {
      "cell_type": "code",
      "source": [
        "from sklearn.neural_network import MLPClassifier\n",
        "\n",
        "wandb.init(project=\"classification_model\", name=\"NeuralNetwork\")\n",
        "\n",
        "mlp_model = MLPClassifier()\n",
        "mlp_model.fit(X_train, y_train)\n",
        "y_pred_mlp = mlp_model.predict(X_test)\n",
        "\n",
        "report_mlp = classification_report(y_test, y_pred_mlp, output_dict=True)\n",
        "\n",
        "wandb.log({\n",
        "    \"accuracy\": report_mlp[\"accuracy\"],\n",
        "    \"precision\": report_mlp[\"1\"][\"precision\"],\n",
        "    \"recall\": report_mlp[\"1\"][\"recall\"],\n",
        "    \"f1_score\": report_mlp[\"1\"][\"f1-score\"]\n",
        "})\n",
        "\n",
        "wandb.finish()\n"
      ],
      "metadata": {
        "colab": {
          "base_uri": "https://localhost:8080/",
          "height": 525
        },
        "id": "UsfKGKt2aB3v",
        "outputId": "148ee85a-3a66-4af3-961a-c1fe592bd9b2"
      },
      "execution_count": 79,
      "outputs": [
        {
          "output_type": "display_data",
          "data": {
            "text/plain": [
              "<IPython.core.display.HTML object>"
            ],
            "text/html": [
              "Tracking run with wandb version 0.19.8"
            ]
          },
          "metadata": {}
        },
        {
          "output_type": "display_data",
          "data": {
            "text/plain": [
              "<IPython.core.display.HTML object>"
            ],
            "text/html": [
              "Run data is saved locally in <code>/content/wandb/run-20250318_131854-hnxelxgx</code>"
            ]
          },
          "metadata": {}
        },
        {
          "output_type": "display_data",
          "data": {
            "text/plain": [
              "<IPython.core.display.HTML object>"
            ],
            "text/html": [
              "Syncing run <strong><a href='https://wandb.ai/tarikamirou1234-ecc/classification_model/runs/hnxelxgx' target=\"_blank\">NeuralNetwork</a></strong> to <a href='https://wandb.ai/tarikamirou1234-ecc/classification_model' target=\"_blank\">Weights & Biases</a> (<a href='https://wandb.me/developer-guide' target=\"_blank\">docs</a>)<br>"
            ]
          },
          "metadata": {}
        },
        {
          "output_type": "display_data",
          "data": {
            "text/plain": [
              "<IPython.core.display.HTML object>"
            ],
            "text/html": [
              " View project at <a href='https://wandb.ai/tarikamirou1234-ecc/classification_model' target=\"_blank\">https://wandb.ai/tarikamirou1234-ecc/classification_model</a>"
            ]
          },
          "metadata": {}
        },
        {
          "output_type": "display_data",
          "data": {
            "text/plain": [
              "<IPython.core.display.HTML object>"
            ],
            "text/html": [
              " View run at <a href='https://wandb.ai/tarikamirou1234-ecc/classification_model/runs/hnxelxgx' target=\"_blank\">https://wandb.ai/tarikamirou1234-ecc/classification_model/runs/hnxelxgx</a>"
            ]
          },
          "metadata": {}
        },
        {
          "output_type": "display_data",
          "data": {
            "text/plain": [
              "<IPython.core.display.HTML object>"
            ],
            "text/html": []
          },
          "metadata": {}
        },
        {
          "output_type": "display_data",
          "data": {
            "text/plain": [
              "<IPython.core.display.HTML object>"
            ],
            "text/html": [
              "<br>    <style><br>        .wandb-row {<br>            display: flex;<br>            flex-direction: row;<br>            flex-wrap: wrap;<br>            justify-content: flex-start;<br>            width: 100%;<br>        }<br>        .wandb-col {<br>            display: flex;<br>            flex-direction: column;<br>            flex-basis: 100%;<br>            flex: 1;<br>            padding: 10px;<br>        }<br>    </style><br><div class=\"wandb-row\"><div class=\"wandb-col\"><h3>Run history:</h3><br/><table class=\"wandb\"><tr><td>accuracy</td><td>▁</td></tr><tr><td>f1_score</td><td>▁</td></tr><tr><td>precision</td><td>▁</td></tr><tr><td>recall</td><td>▁</td></tr></table><br/></div><div class=\"wandb-col\"><h3>Run summary:</h3><br/><table class=\"wandb\"><tr><td>accuracy</td><td>0.8949</td></tr><tr><td>f1_score</td><td>0.10811</td></tr><tr><td>precision</td><td>0.15385</td></tr><tr><td>recall</td><td>0.08333</td></tr></table><br/></div></div>"
            ]
          },
          "metadata": {}
        },
        {
          "output_type": "display_data",
          "data": {
            "text/plain": [
              "<IPython.core.display.HTML object>"
            ],
            "text/html": [
              " View run <strong style=\"color:#cdcd00\">NeuralNetwork</strong> at: <a href='https://wandb.ai/tarikamirou1234-ecc/classification_model/runs/hnxelxgx' target=\"_blank\">https://wandb.ai/tarikamirou1234-ecc/classification_model/runs/hnxelxgx</a><br> View project at: <a href='https://wandb.ai/tarikamirou1234-ecc/classification_model' target=\"_blank\">https://wandb.ai/tarikamirou1234-ecc/classification_model</a><br>Synced 5 W&B file(s), 0 media file(s), 0 artifact file(s) and 0 other file(s)"
            ]
          },
          "metadata": {}
        },
        {
          "output_type": "display_data",
          "data": {
            "text/plain": [
              "<IPython.core.display.HTML object>"
            ],
            "text/html": [
              "Find logs at: <code>./wandb/run-20250318_131854-hnxelxgx/logs</code>"
            ]
          },
          "metadata": {}
        }
      ]
    },
    {
      "cell_type": "code",
      "source": [
        "import joblib\n",
        "import wandb\n",
        "\n",
        "# 🔹 Initialiser Weights & Biases\n",
        "wandb.init(project=\"classification_model\", name=\"best_model_save\")\n",
        "\n",
        "# 🔹 Sauvegarder le modèle localement\n",
        "joblib.dump(RandomForestClassifier, \"best_model.pkl\")\n",
        "\n",
        "# 🔹 Enregistrer le modèle sur WandB\n",
        "wandb.save(\"best_model.pkl\")\n",
        "\n",
        "# 🔹 Terminer la session WandB\n",
        "wandb.finish()\n"
      ],
      "metadata": {
        "colab": {
          "base_uri": "https://localhost:8080/",
          "height": 85
        },
        "id": "_U26oGNkaNrx",
        "outputId": "05ecbf9e-263d-44db-de56-050511778848"
      },
      "execution_count": 85,
      "outputs": [
        {
          "output_type": "display_data",
          "data": {
            "text/plain": [
              "<IPython.core.display.HTML object>"
            ],
            "text/html": []
          },
          "metadata": {}
        },
        {
          "output_type": "display_data",
          "data": {
            "text/plain": [
              "<IPython.core.display.HTML object>"
            ],
            "text/html": [
              " View run <strong style=\"color:#cdcd00\">best_model_save</strong> at: <a href='https://wandb.ai/tarikamirou1234-ecc/classification_model/runs/a5jkfolt' target=\"_blank\">https://wandb.ai/tarikamirou1234-ecc/classification_model/runs/a5jkfolt</a><br> View project at: <a href='https://wandb.ai/tarikamirou1234-ecc/classification_model' target=\"_blank\">https://wandb.ai/tarikamirou1234-ecc/classification_model</a><br>Synced 5 W&B file(s), 0 media file(s), 0 artifact file(s) and 1 other file(s)"
            ]
          },
          "metadata": {}
        },
        {
          "output_type": "display_data",
          "data": {
            "text/plain": [
              "<IPython.core.display.HTML object>"
            ],
            "text/html": [
              "Find logs at: <code>./wandb/run-20250318_132009-a5jkfolt/logs</code>"
            ]
          },
          "metadata": {}
        }
      ]
    },
    {
      "cell_type": "code",
      "source": [
        "from flask import Flask, request, jsonify\n",
        "import wandb\n",
        "import joblib\n",
        "import pandas as pd\n",
        "import os\n",
        "\n",
        "app = Flask(__name__)\n",
        "\n",
        "# 🔹 1. Initialiser WandB et télécharger le modèle\n",
        "wandb.init(project=\"classification_model\", entity=\"tarikamirou1234\")\n",
        "model_artifact = wandb.use_artifact('best_model.pkl', type='model')\n",
        "model_path = model_artifact.download()\n",
        "\n",
        "# 🔹 2. Charger le modèle\n",
        "model = joblib.load(os.path.join(model_path, \"best_model.pkl\"))\n",
        "\n",
        "@app.route('/predict', methods=['POST'])\n",
        "def predict():\n",
        "    try:\n",
        "        # 🔹 3. Récupérer les données en JSON\n",
        "        data = request.get_json()\n",
        "\n",
        "        # 🔹 4. Convertir les données en DataFrame\n",
        "        df = pd.DataFrame(data)\n",
        "\n",
        "        # 🔹 5. Prédire avec le modèle\n",
        "        predictions = model.predict(df)\n",
        "\n",
        "        # 🔹 6. Retourner les résultats\n",
        "        return jsonify({'predictions': predictions.tolist()})\n",
        "\n",
        "    except Exception as e:\n",
        "        return jsonify({'error': str(e)})\n",
        "\n",
        "# 🔹 Lancer l'API Flask\n",
        "if __name__ == '__main__':\n",
        "    app.run(debug=True)\n"
      ],
      "metadata": {
        "colab": {
          "base_uri": "https://localhost:8080/",
          "height": 367
        },
        "id": "d0cgVbvSbj6K",
        "outputId": "6f28500d-129a-479c-c6fe-dc15a7f5e7b7"
      },
      "execution_count": 89,
      "outputs": [
        {
          "output_type": "error",
          "ename": "CommError",
          "evalue": "failed to upsert bucket: returned error 403: {\"data\":{\"upsertBucket\":null},\"errors\":[{\"message\":\"permission denied\",\"path\":[\"upsertBucket\"],\"extensions\":{\"code\":\"PERMISSION_ERROR\"}}]}",
          "traceback": [
            "\u001b[0;31m---------------------------------------------------------------------------\u001b[0m",
            "\u001b[0;31mCommError\u001b[0m                                 Traceback (most recent call last)",
            "\u001b[0;32m<ipython-input-89-d0619b71d467>\u001b[0m in \u001b[0;36m<cell line: 0>\u001b[0;34m()\u001b[0m\n\u001b[1;32m      8\u001b[0m \u001b[0;34m\u001b[0m\u001b[0m\n\u001b[1;32m      9\u001b[0m \u001b[0;31m# 🔹 1. Initialiser WandB et télécharger le modèle\u001b[0m\u001b[0;34m\u001b[0m\u001b[0;34m\u001b[0m\u001b[0m\n\u001b[0;32m---> 10\u001b[0;31m \u001b[0mwandb\u001b[0m\u001b[0;34m.\u001b[0m\u001b[0minit\u001b[0m\u001b[0;34m(\u001b[0m\u001b[0mproject\u001b[0m\u001b[0;34m=\u001b[0m\u001b[0;34m\"classification_model\"\u001b[0m\u001b[0;34m,\u001b[0m \u001b[0mentity\u001b[0m\u001b[0;34m=\u001b[0m\u001b[0;34m\"tarikamirou1234\"\u001b[0m\u001b[0;34m)\u001b[0m\u001b[0;34m\u001b[0m\u001b[0;34m\u001b[0m\u001b[0m\n\u001b[0m\u001b[1;32m     11\u001b[0m \u001b[0mmodel_artifact\u001b[0m \u001b[0;34m=\u001b[0m \u001b[0mwandb\u001b[0m\u001b[0;34m.\u001b[0m\u001b[0muse_artifact\u001b[0m\u001b[0;34m(\u001b[0m\u001b[0;34m'best_model.pkl'\u001b[0m\u001b[0;34m,\u001b[0m \u001b[0mtype\u001b[0m\u001b[0;34m=\u001b[0m\u001b[0;34m'model'\u001b[0m\u001b[0;34m)\u001b[0m\u001b[0;34m\u001b[0m\u001b[0;34m\u001b[0m\u001b[0m\n\u001b[1;32m     12\u001b[0m \u001b[0mmodel_path\u001b[0m \u001b[0;34m=\u001b[0m \u001b[0mmodel_artifact\u001b[0m\u001b[0;34m.\u001b[0m\u001b[0mdownload\u001b[0m\u001b[0;34m(\u001b[0m\u001b[0;34m)\u001b[0m\u001b[0;34m\u001b[0m\u001b[0;34m\u001b[0m\u001b[0m\n",
            "\u001b[0;32m/usr/local/lib/python3.11/dist-packages/wandb/sdk/wandb_init.py\u001b[0m in \u001b[0;36minit\u001b[0;34m(entity, project, dir, id, name, notes, tags, config, config_exclude_keys, config_include_keys, allow_val_change, group, job_type, mode, force, anonymous, reinit, resume, resume_from, fork_from, save_code, tensorboard, sync_tensorboard, monitor_gym, settings)\u001b[0m\n\u001b[1;32m   1480\u001b[0m         \u001b[0;31m# Need to build delay into this sentry capture because our exit hooks\u001b[0m\u001b[0;34m\u001b[0m\u001b[0;34m\u001b[0m\u001b[0m\n\u001b[1;32m   1481\u001b[0m         \u001b[0;31m# mess with sentry's ability to send out errors before the program ends.\u001b[0m\u001b[0;34m\u001b[0m\u001b[0;34m\u001b[0m\u001b[0m\n\u001b[0;32m-> 1482\u001b[0;31m         \u001b[0mwandb\u001b[0m\u001b[0;34m.\u001b[0m\u001b[0m_sentry\u001b[0m\u001b[0;34m.\u001b[0m\u001b[0mreraise\u001b[0m\u001b[0;34m(\u001b[0m\u001b[0me\u001b[0m\u001b[0;34m)\u001b[0m\u001b[0;34m\u001b[0m\u001b[0;34m\u001b[0m\u001b[0m\n\u001b[0m\u001b[1;32m   1483\u001b[0m         \u001b[0;32mraise\u001b[0m \u001b[0mAssertionError\u001b[0m\u001b[0;34m(\u001b[0m\u001b[0;34m)\u001b[0m  \u001b[0;31m# should never get here\u001b[0m\u001b[0;34m\u001b[0m\u001b[0;34m\u001b[0m\u001b[0m\n",
            "\u001b[0;32m/usr/local/lib/python3.11/dist-packages/wandb/analytics/sentry.py\u001b[0m in \u001b[0;36mreraise\u001b[0;34m(self, exc)\u001b[0m\n\u001b[1;32m    154\u001b[0m         \u001b[0;31m# this will messily add this \"reraise\" function to the stack trace,\u001b[0m\u001b[0;34m\u001b[0m\u001b[0;34m\u001b[0m\u001b[0m\n\u001b[1;32m    155\u001b[0m         \u001b[0;31m# but hopefully it's not too bad\u001b[0m\u001b[0;34m\u001b[0m\u001b[0;34m\u001b[0m\u001b[0m\n\u001b[0;32m--> 156\u001b[0;31m         \u001b[0;32mraise\u001b[0m \u001b[0mexc\u001b[0m\u001b[0;34m.\u001b[0m\u001b[0mwith_traceback\u001b[0m\u001b[0;34m(\u001b[0m\u001b[0msys\u001b[0m\u001b[0;34m.\u001b[0m\u001b[0mexc_info\u001b[0m\u001b[0;34m(\u001b[0m\u001b[0;34m)\u001b[0m\u001b[0;34m[\u001b[0m\u001b[0;36m2\u001b[0m\u001b[0;34m]\u001b[0m\u001b[0;34m)\u001b[0m\u001b[0;34m\u001b[0m\u001b[0;34m\u001b[0m\u001b[0m\n\u001b[0m\u001b[1;32m    157\u001b[0m \u001b[0;34m\u001b[0m\u001b[0m\n\u001b[1;32m    158\u001b[0m     \u001b[0;34m@\u001b[0m\u001b[0m_safe_noop\u001b[0m\u001b[0;34m\u001b[0m\u001b[0;34m\u001b[0m\u001b[0m\n",
            "\u001b[0;32m/usr/local/lib/python3.11/dist-packages/wandb/sdk/wandb_init.py\u001b[0m in \u001b[0;36minit\u001b[0;34m(entity, project, dir, id, name, notes, tags, config, config_exclude_keys, config_include_keys, allow_val_change, group, job_type, mode, force, anonymous, reinit, resume, resume_from, fork_from, save_code, tensorboard, sync_tensorboard, monitor_gym, settings)\u001b[0m\n\u001b[1;32m   1466\u001b[0m             \u001b[0minit_telemetry\u001b[0m\u001b[0;34m.\u001b[0m\u001b[0mfeature\u001b[0m\u001b[0;34m.\u001b[0m\u001b[0mserver_side_derived_summary\u001b[0m \u001b[0;34m=\u001b[0m \u001b[0;32mTrue\u001b[0m\u001b[0;34m\u001b[0m\u001b[0;34m\u001b[0m\u001b[0m\n\u001b[1;32m   1467\u001b[0m \u001b[0;34m\u001b[0m\u001b[0m\n\u001b[0;32m-> 1468\u001b[0;31m         \u001b[0;32mreturn\u001b[0m \u001b[0mwi\u001b[0m\u001b[0;34m.\u001b[0m\u001b[0minit\u001b[0m\u001b[0;34m(\u001b[0m\u001b[0mrun_settings\u001b[0m\u001b[0;34m,\u001b[0m \u001b[0mrun_config\u001b[0m\u001b[0;34m)\u001b[0m\u001b[0;34m\u001b[0m\u001b[0;34m\u001b[0m\u001b[0m\n\u001b[0m\u001b[1;32m   1469\u001b[0m \u001b[0;34m\u001b[0m\u001b[0m\n\u001b[1;32m   1470\u001b[0m     \u001b[0;32mexcept\u001b[0m \u001b[0mKeyboardInterrupt\u001b[0m \u001b[0;32mas\u001b[0m \u001b[0me\u001b[0m\u001b[0;34m:\u001b[0m\u001b[0;34m\u001b[0m\u001b[0;34m\u001b[0m\u001b[0m\n",
            "\u001b[0;32m/usr/local/lib/python3.11/dist-packages/wandb/sdk/wandb_init.py\u001b[0m in \u001b[0;36minit\u001b[0;34m(self, settings, config)\u001b[0m\n\u001b[1;32m    961\u001b[0m \u001b[0;34m\u001b[0m\u001b[0m\n\u001b[1;32m    962\u001b[0m             \u001b[0;32mif\u001b[0m \u001b[0merror\u001b[0m \u001b[0;34m:=\u001b[0m \u001b[0mProtobufErrorHandler\u001b[0m\u001b[0;34m.\u001b[0m\u001b[0mto_exception\u001b[0m\u001b[0;34m(\u001b[0m\u001b[0mresult\u001b[0m\u001b[0;34m.\u001b[0m\u001b[0mrun_result\u001b[0m\u001b[0;34m.\u001b[0m\u001b[0merror\u001b[0m\u001b[0;34m)\u001b[0m\u001b[0;34m:\u001b[0m\u001b[0;34m\u001b[0m\u001b[0;34m\u001b[0m\u001b[0m\n\u001b[0;32m--> 963\u001b[0;31m                 \u001b[0;32mraise\u001b[0m \u001b[0merror\u001b[0m\u001b[0;34m\u001b[0m\u001b[0;34m\u001b[0m\u001b[0m\n\u001b[0m\u001b[1;32m    964\u001b[0m \u001b[0;34m\u001b[0m\u001b[0m\n\u001b[1;32m    965\u001b[0m             \u001b[0;32mif\u001b[0m \u001b[0;32mnot\u001b[0m \u001b[0mresult\u001b[0m\u001b[0;34m.\u001b[0m\u001b[0mrun_result\u001b[0m\u001b[0;34m.\u001b[0m\u001b[0mHasField\u001b[0m\u001b[0;34m(\u001b[0m\u001b[0;34m\"run\"\u001b[0m\u001b[0;34m)\u001b[0m\u001b[0;34m:\u001b[0m\u001b[0;34m\u001b[0m\u001b[0;34m\u001b[0m\u001b[0m\n",
            "\u001b[0;31mCommError\u001b[0m: failed to upsert bucket: returned error 403: {\"data\":{\"upsertBucket\":null},\"errors\":[{\"message\":\"permission denied\",\"path\":[\"upsertBucket\"],\"extensions\":{\"code\":\"PERMISSION_ERROR\"}}]}"
          ]
        }
      ]
    }
  ]
}